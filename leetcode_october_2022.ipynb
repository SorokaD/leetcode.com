{
 "cells": [
  {
   "cell_type": "markdown",
   "id": "c8c702ce",
   "metadata": {},
   "source": [
    "### __812. Largest Triangle Area__  \n",
    "Given an array of points on the X-Y plane points where points[i] = [xi, yi], return the area of the largest triangle that can be formed by any three different points. Answers within 10-5 of the actual answer will be accepted."
   ]
  },
  {
   "cell_type": "code",
   "execution_count": 3,
   "id": "f5e6e793",
   "metadata": {},
   "outputs": [
    {
     "data": {
      "text/plain": [
       "2.0"
      ]
     },
     "execution_count": 3,
     "metadata": {},
     "output_type": "execute_result"
    }
   ],
   "source": [
    "import itertools\n",
    "points = [[0,0],[0,1],[1,0],[0,2],[2,0]]\n",
    "\n",
    "# Solution\n",
    "def solution(points):\n",
    "    # S=(1/2)*(x1y2+x2y3+x3y1-x1y3-x2y1-x3y2)\n",
    "    def f(p1, p2, p3):\n",
    "        (x1, y1), (x2, y2), (x3, y3) = p1, p2, p3\n",
    "        return 0.5 * abs(x1 * (y2 - y3) + x2 * (y3 - y1) + x3 * (y1 - y2))\n",
    "    return max(f(a, b, c) for a, b, c in itertools.combinations(points, 3))\n",
    "\n",
    "solution(points)\n"
   ]
  },
  {
   "cell_type": "markdown",
   "id": "56f4a187",
   "metadata": {},
   "source": [
    "### __819. Most Common Word__  \n",
    "Given a string paragraph and a string array of the banned words banned, return the most frequent word that is not banned. It is guaranteed there is at least one word that is not banned, and that the answer is unique.\n",
    "\n",
    "The words in paragraph are case-insensitive and the answer should be returned in lowercase.\n",
    "\n",
    " "
   ]
  },
  {
   "cell_type": "code",
   "execution_count": 49,
   "id": "3b13f5bf",
   "metadata": {},
   "outputs": [
    {
     "data": {
      "text/plain": [
       "'ball'"
      ]
     },
     "execution_count": 49,
     "metadata": {},
     "output_type": "execute_result"
    }
   ],
   "source": [
    "import string\n",
    "paragraph = \"Bob hit a ball, the hit BALL flew far after it was hit.\"\n",
    "banned = [\"hit\"]\n",
    "\n",
    "# Solution\n",
    "def solution(par, ban):\n",
    "    par = par.replace(r',','').lower()\n",
    "    par = par.rstrip(string.punctuation).lower().split(' ')\n",
    "    set_s = set(par)\n",
    "    res = ''\n",
    "    count = 0\n",
    "    for i in  set_s:\n",
    "        if par.count(i)>count and i not in ban:\n",
    "            count = par.count(i)\n",
    "            res = i\n",
    "    return(res)\n",
    "\n",
    "solution(paragraph, banned)\n"
   ]
  },
  {
   "cell_type": "markdown",
   "id": "da13a026",
   "metadata": {},
   "source": [
    "### __821. Shortest Distance to a Character__  \n",
    "Given a string s and a character c that occurs in s, return an array of integers answer where answer.length == s.length and answer[i] is the distance from index i to the closest occurrence of character c in s.\n",
    "\n",
    "The distance between two indices i and j is abs(i - j), where abs is the absolute value function."
   ]
  },
  {
   "cell_type": "code",
   "execution_count": 2,
   "id": "6e0bee61",
   "metadata": {},
   "outputs": [
    {
     "data": {
      "text/plain": [
       "[3, 2, 1, 0, 1, 0, 0, 1, 2, 2, 1, 0]"
      ]
     },
     "execution_count": 2,
     "metadata": {},
     "output_type": "execute_result"
    }
   ],
   "source": [
    "s = \"loveleetcode\"\n",
    "c = \"e\"\n",
    "\n",
    "# Solution\n",
    "def solution(s,c):\n",
    "    ans = []\n",
    "    ans.append(0 if s[0] == c else 10001)\n",
    "    for i in range(1,len(s)):\n",
    "        ans.append(0 if s[i] == c else ans[i-1] + 1)\n",
    "    for i in range(len(s)-2,-1,-1):\n",
    "        ans[i] = min(ans[i], ans[i+1] + 1)\n",
    "    return ans\n",
    "    \n",
    "solution(s,c)"
   ]
  },
  {
   "cell_type": "markdown",
   "id": "4994603e",
   "metadata": {},
   "source": [
    "### __824. Goat Latin__  \n",
    "You are given a string sentence that consist of words separated by spaces. Each word consists of lowercase and uppercase letters only.\n",
    "\n",
    "We would like to convert the sentence to \"Goat Latin\" (a made-up language similar to Pig Latin.) The rules of Goat Latin are as follows:\n",
    "\n",
    "If a word begins with a vowel ('a', 'e', 'i', 'o', or 'u'), append \"ma\" to the end of the word.\n",
    "For example, the word \"apple\" becomes \"applema\".\n",
    "If a word begins with a consonant (i.e., not a vowel), remove the first letter and append it to the end, then add \"ma\".\n",
    "For example, the word \"goat\" becomes \"oatgma\".\n",
    "Add one letter 'a' to the end of each word per its word index in the sentence, starting with 1.\n",
    "For example, the first word gets \"a\" added to the end, the second word gets \"aa\" added to the end, and so on.\n",
    "Return the final sentence representing the conversion from sentence to Goat Latin."
   ]
  },
  {
   "cell_type": "code",
   "execution_count": 6,
   "id": "b84db222",
   "metadata": {},
   "outputs": [
    {
     "data": {
      "text/plain": [
       "'heTmaa uickqmaaa rownbmaaaa oxfmaaaaa umpedjmaaaaaa overmaaaaaaa hetmaaaaaaaa azylmaaaaaaaaa ogdmaaaaaaaaaa '"
      ]
     },
     "execution_count": 6,
     "metadata": {},
     "output_type": "execute_result"
    }
   ],
   "source": [
    "sentence = \"The quick brown fox jumped over the lazy dog\"\n",
    "\n",
    "#Solution\n",
    "def solution(sentence):\n",
    "    sentence = sentence.split(\" \")\n",
    "    let_list = ['a', 'e', 'i', 'o','u']\n",
    "    result = ''\n",
    "    for i in range(len(sentence)):\n",
    "        if sentence[i][0] in let_list :\n",
    "            result += sentence[i]+'m' + 'a'*(i+2)+' '\n",
    "            continue\n",
    "        result += sentence[i][1:]+sentence[i][0]+'m' + 'a'*(i+2)+' '\n",
    "    return(result)\n",
    "\n",
    "solution(sentence)"
   ]
  },
  {
   "cell_type": "markdown",
   "id": "fe80f5cc",
   "metadata": {},
   "source": [
    "### __830. Positions of Large Groups__  \n",
    "In a string s of lowercase letters, these letters form consecutive groups of the same character.\n",
    "\n",
    "For example, a string like s = \"abbxxxxzyy\" has the groups \"a\", \"bb\", \"xxxx\", \"z\", and \"yy\".\n",
    "\n",
    "A group is identified by an interval [start, end], where start and end denote the start and end indices (inclusive) of the group. In the above example, \"xxxx\" has the interval [3,6].\n",
    "\n",
    "A group is considered large if it has 3 or more characters.\n",
    "\n",
    "Return the intervals of every large group sorted in increasing order by start index."
   ]
  },
  {
   "cell_type": "code",
   "execution_count": 6,
   "id": "e7d298e4",
   "metadata": {},
   "outputs": [
    {
     "data": {
      "text/plain": [
       "[[3, 5], [6, 9], [12, 14]]"
      ]
     },
     "execution_count": 6,
     "metadata": {},
     "output_type": "execute_result"
    }
   ],
   "source": [
    "s = \"abcdddeeeeaabbbcd\"\n",
    "\n",
    "# Solution\n",
    "def solution(s):\n",
    "    rslt = []\n",
    "    counter = 0\n",
    "    for i in range(1, len(s)):\n",
    "        if s[i] != s[i-1]:\n",
    "            if i-counter>2:\n",
    "                rslt.append([counter, i-1])\n",
    "            counter = i\n",
    "    if len(s)-counter >2:\n",
    "        rslt.append([counter, len(s)-1])\n",
    "    return rslt\n",
    "\n",
    "solution(s)"
   ]
  },
  {
   "cell_type": "markdown",
   "id": "e6e2f93a",
   "metadata": {},
   "source": [
    "### __832. Flipping an Image__  \n",
    "Given an n x n binary matrix image, flip the image horizontally, then invert it, and return the resulting image.\n",
    "\n",
    "To flip an image horizontally means that each row of the image is reversed.\n",
    "\n",
    "For example, flipping [1,1,0] horizontally results in [0,1,1].\n",
    "To invert an image means that each 0 is replaced by 1, and each 1 is replaced by 0.\n",
    "\n",
    "For example, inverting [0,1,1] results in [1,0,0].\n",
    " "
   ]
  },
  {
   "cell_type": "code",
   "execution_count": 13,
   "id": "5a309cc4",
   "metadata": {},
   "outputs": [
    {
     "data": {
      "text/plain": [
       "[[1, 0, 0], [0, 1, 0], [1, 1, 1]]"
      ]
     },
     "execution_count": 13,
     "metadata": {},
     "output_type": "execute_result"
    }
   ],
   "source": [
    "image = [[1,1,0],[1,0,1],[0,0,0]]\n",
    "\n",
    "# Solution\n",
    "def solution(image):\n",
    "    result = []\n",
    "    for i in image:\n",
    "        result.append([1-x for x in i][::-1])\n",
    "    return result\n",
    "\n",
    "solution(image)"
   ]
  },
  {
   "cell_type": "markdown",
   "id": "f101be15",
   "metadata": {},
   "source": [
    "### __836. Rectangle Overlap__  \n",
    "An axis-aligned rectangle is represented as a list [x1, y1, x2, y2], where (x1, y1) is the coordinate of its bottom-left corner, and (x2, y2) is the coordinate of its top-right corner. Its top and bottom edges are parallel to the X-axis, and its left and right edges are parallel to the Y-axis.\n",
    "\n",
    "Two rectangles overlap if the area of their intersection is positive. To be clear, two rectangles that only touch at the corner or edges do not overlap.\n",
    "\n",
    "Given two axis-aligned rectangles rec1 and rec2, return true if they overlap, otherwise return false."
   ]
  },
  {
   "cell_type": "code",
   "execution_count": 2,
   "id": "c350490e",
   "metadata": {},
   "outputs": [
    {
     "data": {
      "text/plain": [
       "True"
      ]
     },
     "execution_count": 2,
     "metadata": {},
     "output_type": "execute_result"
    }
   ],
   "source": [
    "rec1 = [0,0,2,2]\n",
    "rec2 = [1,1,3,3]\n",
    "\n",
    "# Solution\n",
    "def solution(*args, **kwargs):\n",
    "    if (rec2[2] > rec1[0] and rec2[3] > rec1[1] and rec2[0] < rec1[2] and rec2[1] < rec1[3]):\n",
    "            return True\n",
    "    else:\n",
    "        return False\n",
    "\n",
    "solution(rec1, rec2)\n",
    "        "
   ]
  },
  {
   "cell_type": "markdown",
   "id": "ff716643",
   "metadata": {},
   "source": [
    "### __844. Backspace String Compare__  \n",
    "Given two strings s and t, return true if they are equal when both are typed into empty text editors. '#' means a backspace character.\n",
    "\n",
    "Note that after backspacing an empty text, the text will continue empty."
   ]
  },
  {
   "cell_type": "code",
   "execution_count": 14,
   "id": "89f15071",
   "metadata": {},
   "outputs": [
    {
     "data": {
      "text/plain": [
       "True"
      ]
     },
     "execution_count": 14,
     "metadata": {},
     "output_type": "execute_result"
    }
   ],
   "source": [
    "s = \"ab#c\"\n",
    "t = \"ad#c\"\n",
    "\n",
    "# Solution\n",
    "def solution(s,t):\n",
    "    res_s = ''\n",
    "    res_t = ''\n",
    "    for i in range(max([len(s), len(t)])):\n",
    "        if i< len(s):\n",
    "            if s[i]=='#': res_s = res_s[:-1]\n",
    "            else: res_s += s[i]\n",
    "        if i< len(t):\n",
    "            if t[i]=='#': res_t = res_t[:-1]\n",
    "            else: res_t += t[i]\n",
    "    return res_t==res_s\n",
    "\n",
    "solution(s,t)"
   ]
  },
  {
   "cell_type": "markdown",
   "id": "2b0c271d",
   "metadata": {},
   "source": [
    "### __859. Buddy Strings__  \n",
    "\n",
    "Given two strings s and goal, return true if you can swap two letters in s so the result is equal to goal, otherwise, return false.\n",
    "\n",
    "Swapping letters is defined as taking two indices i and j (0-indexed) such that i != j and swapping the characters at s[i] and s[j].\n",
    "\n",
    "For example, swapping at indices 0 and 2 in \"abcd\" results in \"cbad\".\n",
    " "
   ]
  },
  {
   "cell_type": "code",
   "execution_count": 11,
   "id": "d2e597ca",
   "metadata": {},
   "outputs": [
    {
     "data": {
      "text/plain": [
       "True"
      ]
     },
     "execution_count": 11,
     "metadata": {},
     "output_type": "execute_result"
    }
   ],
   "source": [
    "s = \"ab\"\n",
    "goal = \"ba\"\n",
    "\n",
    "# Solution\n",
    "def solution(s,goal):\n",
    "    if len(s)!=len(goal):\n",
    "            return False\n",
    "    elif sorted(s)!=sorted(goal):\n",
    "            return False\n",
    "    elif s==goal and len(set(s))==len(s):\n",
    "            return False\n",
    "    else:\n",
    "            count=0\n",
    "            for i in range(len(s)):\n",
    "                if s[i]!=goal[i]:\n",
    "                    count+=1\n",
    "                if count==3:\n",
    "                    return False\n",
    "            return True\n",
    "solution(s,goal)"
   ]
  },
  {
   "cell_type": "markdown",
   "id": "f9f2ee7d",
   "metadata": {},
   "source": [
    "### __860. Lemonade Change__  \n",
    "At a lemonade stand, each lemonade costs $5. Customers are standing in a queue to buy from you and order one at a time (in the order specified by bills). Each customer will only buy one lemonade and pay with either a $5, $10, or $20 bill. You must provide the correct change to each customer so that the net transaction is that the customer pays $5.\n",
    "\n",
    "Note that you do not have any change in hand at first.\n",
    "\n",
    "Given an integer array bills where bills[i] is the bill the ith customer pays, return true if you can provide every customer with the correct change, or false otherwise."
   ]
  },
  {
   "cell_type": "code",
   "execution_count": 21,
   "id": "80c1748f",
   "metadata": {},
   "outputs": [
    {
     "data": {
      "text/plain": [
       "True"
      ]
     },
     "execution_count": 21,
     "metadata": {},
     "output_type": "execute_result"
    }
   ],
   "source": [
    "bills = [5,5,5,10,20]\n",
    "\n",
    "# Soution\n",
    "def solution(bills):\n",
    "    cass = []\n",
    "    for i in bills:\n",
    "        if i == 5: cass.append(i)\n",
    "        if i == 10:\n",
    "            if 5 in cass: \n",
    "                cass.append(i)\n",
    "                cass.remove(5)\n",
    "            else: return False\n",
    "        if i == 20:\n",
    "            if cass.count(5)>=1 and cass.count(10)>=1:\n",
    "                cass.append(i)\n",
    "                cass.remove(5)\n",
    "                cass.remove(10)\n",
    "                continue\n",
    "            if cass.count(5)>=3:\n",
    "                cass.append(i)\n",
    "                cass.remove(5)\n",
    "                cass.remove(5)\n",
    "                cass.remove(5)\n",
    "            else: return False\n",
    "    return True\n",
    "\n",
    "solution(bills)\n",
    "\n",
    "\n"
   ]
  },
  {
   "cell_type": "markdown",
   "id": "9554c16d",
   "metadata": {},
   "source": [
    "### __867. Transpose Matrix__  \n",
    "\n",
    "Given a 2D integer array matrix, return the transpose of matrix.\n",
    "\n",
    "The transpose of a matrix is the matrix flipped over its main diagonal, switching the matrix's row and column indices."
   ]
  },
  {
   "cell_type": "code",
   "execution_count": 16,
   "id": "6736ab3d",
   "metadata": {},
   "outputs": [
    {
     "data": {
      "text/plain": [
       "[[1, 4, 7], [2, 5, 8], [3, 6, 9]]"
      ]
     },
     "execution_count": 16,
     "metadata": {},
     "output_type": "execute_result"
    }
   ],
   "source": [
    "matrix = [[1,2,3],[4,5,6],[7,8,9]]\n",
    "\n",
    "# Solution\n",
    "def solution(matrix):\n",
    "    n = len(matrix)\n",
    "    m = len(matrix[0])\n",
    "    result = []\n",
    "    for i in range(m):\n",
    "        res_temp=[]\n",
    "        for j in range(n):\n",
    "            res_temp.append(matrix[j][i])\n",
    "        result.append(res_temp)\n",
    "    return (result)\n",
    "\n",
    "solution(matrix)"
   ]
  },
  {
   "cell_type": "markdown",
   "id": "bdd44f03",
   "metadata": {},
   "source": [
    "### __876. Middle of the Linked List__  \n",
    "Given the head of a singly linked list, return the middle node of the linked list.\n",
    "\n",
    "If there are two middle nodes, return the second middle node.\n",
    "\n",
    " "
   ]
  },
  {
   "cell_type": "code",
   "execution_count": 32,
   "id": "9b4c7fad",
   "metadata": {},
   "outputs": [
    {
     "data": {
      "text/plain": [
       "[4, 5, 6]"
      ]
     },
     "execution_count": 32,
     "metadata": {},
     "output_type": "execute_result"
    }
   ],
   "source": [
    "head = [1,2,3,4,5,6]\n",
    "\n",
    "# Solution\n",
    "def solution(head):\n",
    "    if len(head)%2: point = len(head)//2\n",
    "    else: point = len(head)//2\n",
    "    return [x for x in head[point:]]\n",
    "\n",
    "solution(head)"
   ]
  }
 ],
 "metadata": {
  "interpreter": {
   "hash": "c0fbb0ce8cdd535267a1474e8612decf41d6983b57d829546a25a2ccc69369e3"
  },
  "kernelspec": {
   "display_name": "Python 3.9.7 ('base')",
   "language": "python",
   "name": "python3"
  },
  "language_info": {
   "codemirror_mode": {
    "name": "ipython",
    "version": 3
   },
   "file_extension": ".py",
   "mimetype": "text/x-python",
   "name": "python",
   "nbconvert_exporter": "python",
   "pygments_lexer": "ipython3",
   "version": "3.9.7"
  }
 },
 "nbformat": 4,
 "nbformat_minor": 5
}
