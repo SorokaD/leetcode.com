{
 "cells": [
  {
   "cell_type": "markdown",
   "id": "17d8bc46",
   "metadata": {},
   "source": [
    "### __292. Nim Game__\n",
    "You are playing the following Nim Game with your friend:\n",
    "\n",
    "Initially, there is a heap of stones on the table.\n",
    "You and your friend will alternate taking turns, and you go first.\n",
    "On each turn, the person whose turn it is will remove 1 to 3 stones from the heap.\n",
    "The one who removes the last stone is the winner.\n",
    "Given n, the number of stones in the heap, return true if you can win the game assuming both you and your friend play optimally, otherwise return false."
   ]
  },
  {
   "cell_type": "code",
   "execution_count": 4,
   "id": "72eabb72",
   "metadata": {},
   "outputs": [
    {
     "data": {
      "text/plain": [
       "True"
      ]
     },
     "execution_count": 4,
     "metadata": {},
     "output_type": "execute_result"
    }
   ],
   "source": [
    "n = 5\n",
    "\n",
    "# Solution\n",
    "def solution(n):\n",
    "    if n%4 != 0: return True\n",
    "    return False\n",
    "\n",
    "solution(n)"
   ]
  },
  {
   "cell_type": "markdown",
   "id": "1fc7a745",
   "metadata": {},
   "source": [
    "### __326. Power of Three__\n",
    "Given an integer n, return true if it is a power of three. Otherwise, return false.\n",
    "An integer n is a power of three, if there exists an integer x such that n == 3x."
   ]
  },
  {
   "cell_type": "code",
   "execution_count": 14,
   "id": "f29c181f",
   "metadata": {},
   "outputs": [
    {
     "data": {
      "text/plain": [
       "True"
      ]
     },
     "execution_count": 14,
     "metadata": {},
     "output_type": "execute_result"
    }
   ],
   "source": [
    "n = 3\n",
    "\n",
    "# Solution\n",
    "def solution(n):\n",
    "    while n>1:\n",
    "        if n % 3 != 0: return False\n",
    "        n /= 3\n",
    "    return True\n",
    "\n",
    "solution(n)"
   ]
  },
  {
   "cell_type": "markdown",
   "id": "df8f8e5f",
   "metadata": {},
   "source": [
    "### __338. Counting Bits__\n",
    "Given an integer n, return an array ans of length n + 1 such that for each i (0 <= i <= n), ans[i] is the number of 1's in the binary representation of i"
   ]
  },
  {
   "cell_type": "code",
   "execution_count": 33,
   "id": "50867e0c",
   "metadata": {},
   "outputs": [
    {
     "data": {
      "text/plain": [
       "[0, 1, 1, 2, 1, 2]"
      ]
     },
     "execution_count": 33,
     "metadata": {},
     "output_type": "execute_result"
    }
   ],
   "source": [
    "n = 5\n",
    "\n",
    "# Solution 1\n",
    "def solution(n):\n",
    "    result = ''\n",
    "    while n>0:\n",
    "        if n%2 == 0 : result = '0' + result\n",
    "        else : result = '1' + result\n",
    "        n = n//2\n",
    "    return result\n",
    "\n",
    "# Solution 2\n",
    "def solution(n):\n",
    "    result = []\n",
    "    for i in range(n + 1):\n",
    "        n = 0\n",
    "        while i:\n",
    "            i &= (i - 1)\n",
    "            n += 1\n",
    "        result.append(n)\n",
    "    return result\n",
    "\n",
    "solution(n)"
   ]
  },
  {
   "cell_type": "markdown",
   "id": "a40ff214",
   "metadata": {},
   "source": [
    "### __342. Power of Four__\n",
    "Given an integer n, return true if it is a power of four. Otherwise, return false.\n",
    "An integer n is a power of four, if there exists an integer x such that n == 4x."
   ]
  },
  {
   "cell_type": "code",
   "execution_count": 46,
   "id": "93c7eccc",
   "metadata": {},
   "outputs": [
    {
     "data": {
      "text/plain": [
       "True"
      ]
     },
     "execution_count": 46,
     "metadata": {},
     "output_type": "execute_result"
    }
   ],
   "source": [
    "n = 16\n",
    "\n",
    "# Solution\n",
    "def solution(n):\n",
    "    while n>1:\n",
    "        if n%4 != 0: return False\n",
    "        n /= 4\n",
    "    return True\n",
    "\n",
    "solution(16)"
   ]
  },
  {
   "cell_type": "markdown",
   "id": "e8374eaf",
   "metadata": {},
   "source": [
    "### __344. Reverse String__\n",
    "Write a function that reverses a string. The input string is given as an array of characters s.\n",
    "You must do this by modifying the input array in-place with O(1) extra memory."
   ]
  },
  {
   "cell_type": "code",
   "execution_count": 2,
   "id": "c791524b",
   "metadata": {},
   "outputs": [
    {
     "data": {
      "text/plain": [
       "['o', 'l', 'l', 'e', 'h']"
      ]
     },
     "execution_count": 2,
     "metadata": {},
     "output_type": "execute_result"
    }
   ],
   "source": [
    "s = [\"h\",\"e\",\"l\",\"l\",\"o\"]\n",
    "\n",
    "# Solution\n",
    "def solution(s):\n",
    "    result = []\n",
    "    for i in range(len(s)-1, -1, -1):\n",
    "        result.append(s[i])\n",
    "    return result\n",
    "\n",
    "solution(s)"
   ]
  },
  {
   "cell_type": "markdown",
   "id": "6a24dcd7",
   "metadata": {},
   "source": [
    "### __345. Reverse Vowels of a String__\n",
    "Given a string s, reverse only all the vowels in the string and return it.\n",
    "The vowels are 'a', 'e', 'i', 'o', and 'u', and they can appear in both cases."
   ]
  },
  {
   "cell_type": "code",
   "execution_count": 23,
   "id": "62c1b165",
   "metadata": {},
   "outputs": [
    {
     "data": {
      "text/plain": [
       "'leotcede'"
      ]
     },
     "execution_count": 23,
     "metadata": {},
     "output_type": "execute_result"
    }
   ],
   "source": [
    "s = \"leetcode\"\n",
    "\n",
    "# Solution\n",
    "def solution(s):\n",
    "    azbuka = list('aeiouy' + 'AEIOUY')\n",
    "    temp = ''\n",
    "    for i in range(len(s)-1, -1, -1):\n",
    "        if s[i] in azbuka: \n",
    "            temp += (s[i])\n",
    "    count = 0\n",
    "    for i in range(len(s)):\n",
    "        if s[i] in azbuka: \n",
    "            s = s[:i] + temp[count] + s[i+1:]\n",
    "            count +=1\n",
    "    return s\n",
    "\n",
    "solution(s)\n"
   ]
  },
  {
   "cell_type": "markdown",
   "id": "0c4ba391",
   "metadata": {},
   "source": [
    "### __349. Intersection of Two Arrays__\n",
    "Given two integer arrays nums1 and nums2, return an array of their intersection. Each element in the result must be unique and you may return the result in any order."
   ]
  },
  {
   "cell_type": "code",
   "execution_count": 8,
   "id": "c3c38e76",
   "metadata": {},
   "outputs": [
    {
     "data": {
      "text/plain": [
       "[4, 9]"
      ]
     },
     "execution_count": 8,
     "metadata": {},
     "output_type": "execute_result"
    }
   ],
   "source": [
    "nums1 = [4,9,5]\n",
    "nums2 = [9,4,9,8,4]\n",
    "\n",
    "# Solution1\n",
    "def solution(nums1, nums2):\n",
    "    result = []\n",
    "    if len(nums1)>len(nums2): \n",
    "        small = nums2\n",
    "        big = nums1\n",
    "    else:\n",
    "        small = nums1\n",
    "        big = nums2\n",
    "    for i in small:\n",
    "        if i in big and i not in result: result.append(i)\n",
    "    return result\n",
    "\n",
    "solution(nums1, nums2)\n"
   ]
  },
  {
   "cell_type": "markdown",
   "id": "5b2fde12",
   "metadata": {},
   "source": [
    "### __367. Valid Perfect Square__\n",
    "Given a positive integer num, write a function which returns True if num is a perfect square else False.\n",
    "Follow up: Do not use any built-in library function such as sqrt."
   ]
  },
  {
   "cell_type": "code",
   "execution_count": 18,
   "id": "f703a923",
   "metadata": {},
   "outputs": [
    {
     "data": {
      "text/plain": [
       "True"
      ]
     },
     "execution_count": 18,
     "metadata": {},
     "output_type": "execute_result"
    }
   ],
   "source": [
    "num = 16\n",
    "\n",
    "# Solution\n",
    "def solution(num):\n",
    "    if int(str(num)[-1]) not in [0,1,4,9,6,5]: return False\n",
    "    low = 0\n",
    "    high = num\n",
    "    middle = (low+high)//2\n",
    "    while high-low>1:\n",
    "        if middle**2 == num: return True\n",
    "        if middle**2 >num: high = middle\n",
    "        else: low = middle\n",
    "        middle = (low+high)//2\n",
    "    return False\n",
    "\n",
    "solution(25)\n"
   ]
  },
  {
   "cell_type": "markdown",
   "id": "b93400c0",
   "metadata": {},
   "source": [
    "### __383. Ransom Note__\n",
    "Given two strings ransomNote and magazine, return true if ransomNote can be constructed by using the letters from magazine and false otherwise.\n",
    "\n",
    "Each letter in magazine can only be used once in ransomNote."
   ]
  },
  {
   "cell_type": "code",
   "execution_count": 9,
   "id": "45aeff3f",
   "metadata": {},
   "outputs": [
    {
     "data": {
      "text/plain": [
       "False"
      ]
     },
     "execution_count": 9,
     "metadata": {},
     "output_type": "execute_result"
    }
   ],
   "source": [
    "ransomNote = \"aac\" \n",
    "magazine = \"aab\"\n",
    "\n",
    "# Solution\n",
    "def solution(ransomNote, magazine):\n",
    "    magazine = list(magazine)\n",
    "    for i in ransomNote:\n",
    "        if i in magazine: magazine.remove(i)\n",
    "        else:\n",
    "            return False\n",
    "    return True\n",
    "\n",
    "solution(ransomNote, magazine)"
   ]
  },
  {
   "cell_type": "markdown",
   "id": "e7dfc060",
   "metadata": {},
   "source": [
    "### __387. First Unique Character in a String__\n",
    "Given a string s, find the first non-repeating character in it and return its index. If it does not exist, return -1."
   ]
  },
  {
   "cell_type": "code",
   "execution_count": 22,
   "id": "09f7acfd",
   "metadata": {},
   "outputs": [
    {
     "data": {
      "text/plain": [
       "2"
      ]
     },
     "execution_count": 22,
     "metadata": {},
     "output_type": "execute_result"
    }
   ],
   "source": [
    "s = \"loveleetcode\"\n",
    "\n",
    "# Solution\n",
    "def solution(s):\n",
    "    for i in range(len(s)):\n",
    "        if s[i] in s[i+1:] or s[i] in s[:i]: continue\n",
    "        else: return i\n",
    "    return -1\n",
    "\n",
    "solution(s)"
   ]
  },
  {
   "cell_type": "markdown",
   "id": "ef4bd781",
   "metadata": {},
   "source": [
    "### __389. Find the Difference__\n",
    "You are given two strings s and t.\n",
    "String t is generated by random shuffling string s and then add one more letter at a random position.\n",
    "Return the letter that was added to t."
   ]
  },
  {
   "cell_type": "code",
   "execution_count": 15,
   "id": "c6e0bab0",
   "metadata": {},
   "outputs": [
    {
     "data": {
      "text/plain": [
       "'s'"
      ]
     },
     "execution_count": 15,
     "metadata": {},
     "output_type": "execute_result"
    }
   ],
   "source": [
    "s = \"abcd\"\n",
    "t = \"abcds\"\n",
    "\n",
    "# Solution\n",
    "def solution(s,t):\n",
    "    st_zip = list(zip(s,t))\n",
    "    for i in st_zip:\n",
    "        if i[0] != i[1]: return i[1]\n",
    "    return t[-1]\n",
    "\n",
    "solution(s,t)    "
   ]
  },
  {
   "cell_type": "markdown",
   "id": "6be92cca",
   "metadata": {},
   "source": [
    "### __392. Is Subsequence__\n",
    "Given two strings s and t, return true if s is a subsequence of t, or false otherwise.\n",
    "A subsequence of a string is a new string that is formed from the original string by deleting some (can be none) of the characters without disturbing the relative positions of the remaining characters. (i.e., \"ace\" is a subsequence of \"abcde\" while \"aec\" is not)."
   ]
  },
  {
   "cell_type": "code",
   "execution_count": 21,
   "id": "5faef6f0",
   "metadata": {},
   "outputs": [
    {
     "data": {
      "text/plain": [
       "True"
      ]
     },
     "execution_count": 21,
     "metadata": {},
     "output_type": "execute_result"
    }
   ],
   "source": [
    "s = \"abc\"\n",
    "t = \"ahbgdc\"\n",
    "\n",
    "# Solution\n",
    "def solution(s,t):\n",
    "    counter = 0\n",
    "    for  i in t:\n",
    "        if s[counter] == i: counter +=1\n",
    "        if counter == len(s): return True\n",
    "    return False\n",
    "\n",
    "solution(s,t)\n",
    "\n"
   ]
  },
  {
   "cell_type": "markdown",
   "id": "f15dfb17",
   "metadata": {},
   "source": [
    "### __405. Convert a Number to Hexadecimal__\n",
    "Given an integer num, return a string representing its hexadecimal representation. For negative integers, two’s complement method is used.\n",
    "All the letters in the answer string should be lowercase characters, and there should not be any leading zeros in the answer except for the zero itself.\n",
    "Note: You are not allowed to use any built-in library method to directly solve this problem."
   ]
  },
  {
   "cell_type": "code",
   "execution_count": 18,
   "id": "a1597641",
   "metadata": {},
   "outputs": [
    {
     "data": {
      "text/plain": [
       "'1d2b'"
      ]
     },
     "execution_count": 18,
     "metadata": {},
     "output_type": "execute_result"
    }
   ],
   "source": [
    "num = 7467\n",
    "\n",
    "# Solution\n",
    "def solution(num):\n",
    "    hex_dict = {0:0, 1:1, 2:2, 3:3, 4:4, 5:5, 6:6, 7:7, 8:8, 9:9, 10:'a', 11:'b', 12:'c', 13:'d', 14:'e', 15:'f'}\n",
    "    result = ''\n",
    "    while num>16: \n",
    "        dig = num % 16\n",
    "        result = str(hex_dict[dig]) + result\n",
    "        num = num // 16\n",
    "    result = str(hex_dict[num]) + result\n",
    "    return result\n",
    "\n",
    "solution(num)"
   ]
  },
  {
   "cell_type": "markdown",
   "id": "eaa4e0d0",
   "metadata": {},
   "source": [
    "### __409. Longest Palindrome__\n",
    "Given a string s which consists of lowercase or uppercase letters, return the length of the longest palindrome that can be built with those letters.\n",
    "Letters are case sensitive, for example, \"Aa\" is not considered a palindrome here."
   ]
  },
  {
   "cell_type": "code",
   "execution_count": 32,
   "id": "61a1d3db",
   "metadata": {},
   "outputs": [
    {
     "data": {
      "text/plain": [
       "1"
      ]
     },
     "execution_count": 32,
     "metadata": {},
     "output_type": "execute_result"
    }
   ],
   "source": [
    "s = \"abccccdd\"\n",
    "\n",
    "# Solution\n",
    "def solution(s):\n",
    "    dict_s = {}\n",
    "    for i in s:\n",
    "        if i not in dict_s:\n",
    "            dict_s[i] = 0\n",
    "        dict_s[i] +=1\n",
    "    result = 0\n",
    "    flag_one = 0\n",
    "    for i in dict_s:\n",
    "        if dict_s[i] % 2 == 0: result += dict_s[i]\n",
    "        else:\n",
    "            if flag_one == 0:\n",
    "                flag_one = 1\n",
    "    if result % 2 == 0: result +=flag_one\n",
    "    return result\n",
    "\n",
    "solution('a')\n",
    "\n"
   ]
  },
  {
   "cell_type": "markdown",
   "id": "bd8da741",
   "metadata": {},
   "source": [
    "### __412. Fizz Buzz__  \n",
    "Given an integer n, return a string array answer (1-indexed) where:\n",
    "\n",
    "answer[i] == \"FizzBuzz\" if i is divisible by 3 and 5.  \n",
    "answer[i] == \"Fizz\" if i is divisible by 3.  \n",
    "answer[i] == \"Buzz\" if i is divisible by 5.  \n",
    "answer[i] == i (as a string) if none of the above conditions are true.  \n"
   ]
  },
  {
   "cell_type": "code",
   "execution_count": 3,
   "id": "b6732210",
   "metadata": {},
   "outputs": [
    {
     "name": "stdout",
     "output_type": "stream",
     "text": [
      "['1', '2', 'Fizz', '4', 'Buzz', 'Fizz', '7', '8', 'Fizz', 'Buzz', '11', 'Fizz', '13', '14', 'FizzBuzz']\n"
     ]
    }
   ],
   "source": [
    "n = 15\n",
    "\n",
    "# Solution\n",
    "def solution(n):\n",
    "    result = []\n",
    "    for i in range(1,n+1):\n",
    "        if i % 3 == 0 and i % 5 ==0:\n",
    "            result.append('FizzBuzz')\n",
    "            continue\n",
    "        if i % 3 == 0:\n",
    "            result.append('Fizz')\n",
    "            continue\n",
    "        if i % 5 ==0:\n",
    "            result.append('Buzz')\n",
    "            continue\n",
    "        result.append(str(i))\n",
    "    return(result)\n",
    "\n",
    "print(solution(n))\n"
   ]
  },
  {
   "cell_type": "markdown",
   "id": "ce334574",
   "metadata": {},
   "source": [
    "### __414. Third Maximum Number__\n",
    "Given an integer array nums, return the third distinct maximum number in this array. If the third maximum does not exist, return the maximum number."
   ]
  },
  {
   "cell_type": "code",
   "execution_count": 3,
   "id": "c8a8bbff",
   "metadata": {},
   "outputs": [
    {
     "data": {
      "text/plain": [
       "1"
      ]
     },
     "execution_count": 3,
     "metadata": {},
     "output_type": "execute_result"
    }
   ],
   "source": [
    "nums = [2,2,3,1]\n",
    "\n",
    "# Solutoin\n",
    "def solution(nums):\n",
    "    set_nums = set(nums)\n",
    "    if len(set_nums) < 3: counter = len(set_nums)\n",
    "    else: counter = len(set_nums) - 3\n",
    "    for i in set_nums:\n",
    "        if counter == 0: return i\n",
    "        counter -=1\n",
    "    \n",
    "solution(nums)\n"
   ]
  },
  {
   "cell_type": "markdown",
   "id": "7442fd36",
   "metadata": {},
   "source": [
    "### __434. Number of Segments in a String__\n",
    "Given a string s, return the number of segments in the string.\n",
    "A segment is defined to be a contiguous sequence of non-space characters."
   ]
  },
  {
   "cell_type": "code",
   "execution_count": 4,
   "id": "48b437a2",
   "metadata": {},
   "outputs": [
    {
     "data": {
      "text/plain": [
       "5"
      ]
     },
     "execution_count": 4,
     "metadata": {},
     "output_type": "execute_result"
    }
   ],
   "source": [
    "s = \"Hello, my name is John\"\n",
    "\n",
    "# Solution\n",
    "def solution(s):\n",
    "    counter = 1\n",
    "    for i in s:\n",
    "        if i == ' ': counter +=1\n",
    "    return counter\n",
    "\n",
    "solution(s)"
   ]
  },
  {
   "cell_type": "markdown",
   "id": "424ee906",
   "metadata": {},
   "source": [
    "### __448. Find All Numbers Disappeared in an Array__\n",
    "Given an array nums of n integers where nums[i] is in the range [1, n], return an array of all the integers in the range [1, n] that do not appear in nums."
   ]
  },
  {
   "cell_type": "code",
   "execution_count": 12,
   "id": "9074e1b2",
   "metadata": {},
   "outputs": [
    {
     "data": {
      "text/plain": [
       "[5, 6]"
      ]
     },
     "execution_count": 12,
     "metadata": {},
     "output_type": "execute_result"
    }
   ],
   "source": [
    "nums = [4,3,2,7,8,2,3,1]\n",
    "\n",
    "# Solution\n",
    "def solution(nums):\n",
    "    ideal_nums = list(range(1,len(nums)+1))\n",
    "    result = list(set(ideal_nums) - set(nums))\n",
    "    return result\n",
    "\n",
    "solution(nums)"
   ]
  },
  {
   "cell_type": "code",
   "execution_count": null,
   "id": "edd1c722",
   "metadata": {},
   "outputs": [],
   "source": []
  }
 ],
 "metadata": {
  "interpreter": {
   "hash": "c0fbb0ce8cdd535267a1474e8612decf41d6983b57d829546a25a2ccc69369e3"
  },
  "kernelspec": {
   "display_name": "Python 3.9.7 ('base')",
   "language": "python",
   "name": "python3"
  },
  "language_info": {
   "codemirror_mode": {
    "name": "ipython",
    "version": 3
   },
   "file_extension": ".py",
   "mimetype": "text/x-python",
   "name": "python",
   "nbconvert_exporter": "python",
   "pygments_lexer": "ipython3",
   "version": "3.9.7"
  }
 },
 "nbformat": 4,
 "nbformat_minor": 5
}
