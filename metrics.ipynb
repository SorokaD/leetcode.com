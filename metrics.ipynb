{
 "cells": [
  {
   "cell_type": "code",
   "execution_count": 50,
   "metadata": {},
   "outputs": [],
   "source": [
    "import random\n",
    "import matplotlib\n",
    "import matplotlib.pyplot as plt\n",
    "import scipy.stats as sps\n",
    "import scipy\n",
    "import math"
   ]
  },
  {
   "cell_type": "markdown",
   "metadata": {},
   "source": [
    "### Сгенерируем выборку с нормальным распределением"
   ]
  },
  {
   "cell_type": "code",
   "execution_count": 51,
   "metadata": {},
   "outputs": [
    {
     "name": "stdout",
     "output_type": "stream",
     "text": [
      "ShapiroResult(statistic=0.99789959192276, pvalue=0.2431126832962036)\n"
     ]
    },
    {
     "data": {
      "image/png": "[encoded data removed]",
      "text/plain": [
       "<Figure size 432x288 with 1 Axes>"
      ]
     },
     "metadata": {
      "needs_background": "light"
     },
     "output_type": "display_data"
    }
   ],
   "source": [
    "# выборка с нормальным распределением\n",
    "x = sps.norm(scale=10).rvs(size=1000)\n",
    "plt.hist(x, bins=30)\n",
    "print(scipy.stats.shapiro(x))"
   ]
  },
  {
   "cell_type": "code",
   "execution_count": 52,
   "metadata": {},
   "outputs": [
    {
     "data": {
      "text/plain": [
       "ShapiroResult(statistic=0.99789959192276, pvalue=0.2431126832962036)"
      ]
     },
     "execution_count": 52,
     "metadata": {},
     "output_type": "execute_result"
    },
    {
     "data": {
      "image/png": "[encoded data removed]",
      "text/plain": [
       "<Figure size 432x288 with 1 Axes>"
      ]
     },
     "metadata": {
      "needs_background": "light"
     },
     "output_type": "display_data"
    }
   ],
   "source": [
    "# подкорректируем данные для линейной регрссии\n",
    "x = [10+x*0.2 for x in x]\n",
    "plt.hist(x, bins=30)\n",
    "scipy.stats.shapiro(x)"
   ]
  },
  {
   "cell_type": "markdown",
   "metadata": {},
   "source": [
    "### Mean, median, dispersion"
   ]
  },
  {
   "cell_type": "code",
   "execution_count": 53,
   "metadata": {},
   "outputs": [
    {
     "name": "stdout",
     "output_type": "stream",
     "text": [
      "mean=10.04, median=10.116, dispersion=3.741, sigma=1.934\n"
     ]
    }
   ],
   "source": [
    "# метрики в функциях\n",
    "def decor(func):\n",
    "    def rounder(*args, **kwargs):\n",
    "        rt = round(func(*args, **kwargs), 3)\n",
    "        return rt\n",
    "    return rounder\n",
    "\n",
    "@decor\n",
    "def my_mean(a):\n",
    "    return sum(a)/len(a)\n",
    "\n",
    "@decor\n",
    "def my_median(a):\n",
    "    a.sort()\n",
    "    if len(a)%2 != 0: return a[int((len(a)-1)/2)]\n",
    "    return sum(a[int(len(a)/2-1):int(len(a)/2+1)])/2\n",
    "\n",
    "@decor\n",
    "def my_dispersion(a):\n",
    "    return sum([(x-my_mean(a))**2 for x in a])/len(a)\n",
    "\n",
    "@decor\n",
    "def my_sigma(a):\n",
    "    return round(math.sqrt(my_dispersion(a)),3)\n",
    "\n",
    "print(r'mean={}, median={}, dispersion={}, sigma={}'.format(my_mean(x), my_median(x), my_dispersion(x), my_sigma(x)))\n"
   ]
  },
  {
   "cell_type": "code",
   "execution_count": 54,
   "metadata": {},
   "outputs": [],
   "source": [
    "# тоже самое в классе\n",
    "class BaseMetrics():\n",
    "    \n",
    "    def __init__(self, sign_after=5):\n",
    "        self.sign_after = sign_after\n",
    "\n",
    "    # декоратор округления результата\n",
    "    def decor_rounder(func):\n",
    "        def rounder(self, *args, **kwargs):\n",
    "            rt = round(func(*args, **kwargs), self.sign_after)\n",
    "            return rt\n",
    "        return rounder\n",
    "\n",
    "    # расчет среднего\n",
    "    @decor_rounder\n",
    "    def my_mean(data):\n",
    "        return sum(data)/len(data)\n",
    "\n",
    "    # расчет медианы\n",
    "    @decor_rounder\n",
    "    def my_median(data):\n",
    "        data.sort()\n",
    "        if len(data)%2 != 0: return data[int((len(data)-1)/2)]\n",
    "        return sum(data[int(len(data)/2-1):int(len(data)/2+1)])/2\n",
    "    \n",
    "    # расчет дисперсии/сигмы_квадрат\n",
    "    @decor_rounder\n",
    "    def my_dispersion(data):\n",
    "        return sum([(x-my_mean(data))**2 for x in data])/len(data)\n",
    "\n",
    "    # расчет сигмы\n",
    "    @decor_rounder\n",
    "    def my_sigma(data):\n",
    "        from math import sqrt\n",
    "        return sqrt(my_dispersion(data))\n"
   ]
  },
  {
   "cell_type": "code",
   "execution_count": 55,
   "metadata": {},
   "outputs": [
    {
     "name": "stdout",
     "output_type": "stream",
     "text": [
      "10.04005\n",
      "10.11635\n",
      "3.74112\n",
      "1.93417\n"
     ]
    }
   ],
   "source": [
    "mtr = BaseMetrics(sign_after=5)\n",
    "\n",
    "print(mtr.my_mean(x))\n",
    "print(mtr.my_median(x))\n",
    "print(mtr.my_dispersion(x))\n",
    "print(mtr.my_sigma(x))"
   ]
  },
  {
   "cell_type": "code",
   "execution_count": 56,
   "metadata": {},
   "outputs": [
    {
     "data": {
      "text/plain": [
       "<matplotlib.lines.Line2D at 0x20c5440e1c0>"
      ]
     },
     "execution_count": 56,
     "metadata": {},
     "output_type": "execute_result"
    },
    {
     "data": {
      "image/png": "[encoded data removed]",
      "text/plain": [
       "<Figure size 432x288 with 1 Axes>"
      ]
     },
     "metadata": {
      "needs_background": "light"
     },
     "output_type": "display_data"
    }
   ],
   "source": [
    "# Доверительный интервал mean+-2sigma\n",
    "plt.hist(x, bins=30)\n",
    "plt.axvline(x=mtr.my_mean(x), ymin=0.0, ymax=0.8, color='red')\n",
    "plt.axvline(x=mtr.my_mean(x)+2*mtr.my_sigma(x), ymin=0.0, ymax=0.8, color='red')\n",
    "plt.axvline(x=mtr.my_mean(x)-2*mtr.my_sigma(x), ymin=0.0, ymax=0.8, color='red')\n"
   ]
  },
  {
   "cell_type": "code",
   "execution_count": 57,
   "metadata": {},
   "outputs": [
    {
     "name": "stdout",
     "output_type": "stream",
     "text": [
      "1000\n",
      "952\n"
     ]
    }
   ],
   "source": [
    "# посмотрим принадлежит ли 95% наблдений +-2sigma\n",
    "conf_int = [mtr.my_mean(x)-2*mtr.my_sigma(x), mtr.my_mean(x)+2*mtr.my_sigma(x)]\n",
    "print(len(x))\n",
    "print(len([y for y in x if y<conf_int[1] and y>conf_int[0]]))"
   ]
  }
 ],
 "metadata": {
  "kernelspec": {
   "display_name": "Python 3.9.7 ('base')",
   "language": "python",
   "name": "python3"
  },
  "language_info": {
   "codemirror_mode": {
    "name": "ipython",
    "version": 3
   },
   "file_extension": ".py",
   "mimetype": "text/x-python",
   "name": "python",
   "nbconvert_exporter": "python",
   "pygments_lexer": "ipython3",
   "version": "3.9.7"
  },
  "orig_nbformat": 4,
  "vscode": {
   "interpreter": {
    "hash": "c0fbb0ce8cdd535267a1474e8612decf41d6983b57d829546a25a2ccc69369e3"
   }
  }
 },
 "nbformat": 4,
 "nbformat_minor": 2
}
