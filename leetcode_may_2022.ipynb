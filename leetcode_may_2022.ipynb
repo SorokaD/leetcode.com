{
 "cells": [
  {
   "cell_type": "markdown",
   "id": "72eabb72",
   "metadata": {},
   "source": [
    "### __169. Majority Element__  \n",
    "Given an array nums of size n, return the majority element.\n",
    "The majority element is the element that appears more than ⌊n / 2⌋ times. You may assume that the majority element always exists in the array."
   ]
  },
  {
   "cell_type": "code",
   "execution_count": 11,
   "id": "f29c181f",
   "metadata": {},
   "outputs": [
    {
     "name": "stdout",
     "output_type": "stream",
     "text": [
      "4\n"
     ]
    }
   ],
   "source": [
    "nums=[1,2,2,5,3,2,1,4,4,4,4,4,4]\n",
    "\n",
    "# Solution\n",
    "def maj_el(nums):\n",
    "    dict={}\n",
    "    result=0\n",
    "    result_count=0\n",
    "    for i in range(len(nums)):\n",
    "        if nums[i] not in dict: dict[nums[i]]=0\n",
    "        dict[nums[i]]+=1\n",
    "        if dict[nums[i]] > result_count:\n",
    "            result=nums[i]\n",
    "            result_count=dict[nums[i]]\n",
    "    return print(result)\n",
    "    \n",
    "maj_el(nums)"
   ]
  },
  {
   "cell_type": "markdown",
   "id": "193a0e26",
   "metadata": {},
   "source": [
    "### __171. Excel Sheet Column Number__   \n",
    "Given a string columnTitle that represents the column title as appear in an Excel sheet, return its corresponding column number."
   ]
  },
  {
   "cell_type": "code",
   "execution_count": 53,
   "id": "50867e0c",
   "metadata": {},
   "outputs": [
    {
     "data": {
      "text/plain": [
       "701"
      ]
     },
     "execution_count": 53,
     "metadata": {},
     "output_type": "execute_result"
    }
   ],
   "source": [
    "columnTitle='zy'\n",
    "\n",
    "# Solution\n",
    "# задаем словарь соответствий символа и числа\n",
    "dict_list=list('0abcdefghijklmnopqrstuvwxyz')\n",
    "dict={}\n",
    "for i in range(len(dict_list)):\n",
    "    dict[dict_list[i]]=i\n",
    "\n",
    "# находим результат\n",
    "result=0\n",
    "for i in range(len(columnTitle)):\n",
    "    result+=dict[columnTitle[i]]*(26**(len(columnTitle)-i-1))\n",
    "result"
   ]
  },
  {
   "cell_type": "markdown",
   "id": "e2038f25",
   "metadata": {},
   "source": [
    "### __190. Reverse Bits__\n",
    "Reverse bits of a given 32 bits unsigned integer."
   ]
  },
  {
   "cell_type": "code",
   "execution_count": 20,
   "id": "56ef358a",
   "metadata": {},
   "outputs": [
    {
     "name": "stdout",
     "output_type": "stream",
     "text": [
      "964176192 ( 00111001011110000010100101000000 )\n"
     ]
    }
   ],
   "source": [
    "n = '00000010100101000001111010011100'\n",
    "\n",
    "# Solution\n",
    "result_str  = ''\n",
    "result_int = 0\n",
    "count = 0\n",
    "for i in range(len(n)):\n",
    "    result_str += n[len(n)-i-1]\n",
    "    result_int += int(n[i]) * 2**i\n",
    "print (result_int, '(',result_str,')')"
   ]
  },
  {
   "cell_type": "markdown",
   "id": "9a4185f0",
   "metadata": {},
   "source": [
    "### __191. Number of 1 Bits__\n",
    "Write a function that takes an unsigned integer and returns the number of '1' bits it has (also known as the Hamming weight)."
   ]
  },
  {
   "cell_type": "code",
   "execution_count": 23,
   "id": "f976dec5",
   "metadata": {},
   "outputs": [
    {
     "name": "stdout",
     "output_type": "stream",
     "text": [
      "8\n"
     ]
    }
   ],
   "source": [
    "# Solution 1\n",
    "n = '0101010101011100'\n",
    "n.count('1')\n",
    "\n",
    "# Solution 2\n",
    "result = 0\n",
    "for i in n:\n",
    "    if i == '1': result +=1\n",
    "print(result)"
   ]
  },
  {
   "cell_type": "markdown",
   "id": "a6403f27",
   "metadata": {},
   "source": [
    "### __202. Happy Number__\n",
    "Write an algorithm to determine if a number n is happy.  \n",
    "A happy number is a number defined by the following process:  \n",
    "Starting with any positive integer, replace the number by the sum of the squares of its digits.\n",
    "Repeat the process until the number equals 1 (where it will stay), or it loops endlessly in a cycle which does not include 1.\n",
    "Those numbers for which this process ends in 1 are happy."
   ]
  },
  {
   "cell_type": "code",
   "execution_count": 15,
   "id": "5950e272",
   "metadata": {},
   "outputs": [
    {
     "name": "stdout",
     "output_type": "stream",
     "text": [
      "True\n"
     ]
    }
   ],
   "source": [
    "n = 19\n",
    "\n",
    "# Solution 1\n",
    "number = 0\n",
    "summer = 0\n",
    "rounder = []\n",
    "for i in str(n):\n",
    "        number +=int(i)**2\n",
    "while number != 1:\n",
    "    for i in str(number):\n",
    "        summer +=int(i)**2\n",
    "    if summer == 1 :\n",
    "        print('True')\n",
    "        break\n",
    "    if summer in rounder:\n",
    "        print('False')\n",
    "        break\n",
    "    rounder.append(summer)\n",
    "    number = summer\n",
    "    summer = 0\n",
    "\n",
    "# Solution 2\n",
    "def solution2(n):\n",
    "    s = set()\n",
    "    while n !=1:\n",
    "        if n in s: return False\n",
    "        s.add(n)\n",
    "        n = sum([int(i) ** 2 for i in str(n)])\n",
    "    else: return True\n",
    "\n",
    "        "
   ]
  },
  {
   "cell_type": "markdown",
   "id": "7b853ca7",
   "metadata": {},
   "source": [
    "### __205. Isomorphic Strings__\n",
    "Given two strings s and t, determine if they are isomorphic.  \n",
    "Two strings s and t are isomorphic if the characters in s can be replaced to get t.  \n",
    "All occurrences of a character must be replaced with another character while preserving the order of characters. No two characters may map to the same character, but a character may map to itself.\n",
    " "
   ]
  },
  {
   "cell_type": "code",
   "execution_count": 82,
   "id": "f1b6ba13",
   "metadata": {},
   "outputs": [
    {
     "data": {
      "text/plain": [
       "True"
      ]
     },
     "execution_count": 82,
     "metadata": {},
     "output_type": "execute_result"
    }
   ],
   "source": [
    "\n",
    "s = 'eqq'\n",
    "t = 'fqq'\n",
    "\n",
    "# Solution\n",
    "def solution (s,t):\n",
    "    dict = {}\n",
    "    for i in range(len(s)):\n",
    "        if s[i] in dict:\n",
    "            if dict[s[i]] != t[i]: return False\n",
    "        else: \n",
    "            if t[i] in dict.values(): return False\n",
    "        dict[s[i]] = t[i]\n",
    "    return True\n",
    "\n",
    "solution(s,t)"
   ]
  },
  {
   "cell_type": "markdown",
   "id": "1ae8b7cc",
   "metadata": {},
   "source": [
    "### __217. Contains Duplicate__\n",
    "Given an integer array nums, return true if any value appears at least twice in the array, and return false if every element is distinct."
   ]
  },
  {
   "cell_type": "code",
   "execution_count": 7,
   "id": "dccb7405",
   "metadata": {},
   "outputs": [
    {
     "data": {
      "text/plain": [
       "True"
      ]
     },
     "execution_count": 7,
     "metadata": {},
     "output_type": "execute_result"
    }
   ],
   "source": [
    "nums = [1,2,3,1]\n",
    "\n",
    "# Solution\n",
    "def solution(nums):\n",
    "    num_set = set()\n",
    "    for i in nums:\n",
    "        if i not in num_set: num_set.add(i)\n",
    "        else: return True\n",
    "    return False\n",
    "\n",
    "solution(nums)"
   ]
  },
  {
   "cell_type": "markdown",
   "id": "2a9d43fc",
   "metadata": {},
   "source": [
    "### __219. Contains Duplicate II__\n",
    "Given an integer array nums and an integer k, return true if there are two distinct indices i and j in the array such that nums[i] == nums[j] and abs(i - j) <= k."
   ]
  },
  {
   "cell_type": "code",
   "execution_count": 12,
   "id": "3fb383b5",
   "metadata": {},
   "outputs": [
    {
     "data": {
      "text/plain": [
       "True"
      ]
     },
     "execution_count": 12,
     "metadata": {},
     "output_type": "execute_result"
    }
   ],
   "source": [
    "nums = [1,2,3,1,2,3]\n",
    "k = 3\n",
    "nums.index(1)\n",
    "\n",
    "# Solution\n",
    "def solution(nums, k):\n",
    "    num_set = set()\n",
    "    for i in range(len(nums)):\n",
    "        if nums[i] not in num_set: num_set.add(nums[i])\n",
    "        else:\n",
    "            if abs(i - nums.index(nums[i])) <= k: return True\n",
    "    return False\n",
    "    \n",
    "solution(nums, k)"
   ]
  },
  {
   "cell_type": "markdown",
   "id": "be418a18",
   "metadata": {},
   "source": [
    "### __228. Summary Ranges__\n",
    "You are given a sorted unique integer array nums.\n",
    "A range [a,b] is the set of all integers from a to b (inclusive).\n",
    "Return the smallest sorted list of ranges that cover all the numbers in the array exactly. That is, each element of nums is covered by exactly one of the ranges, and there is no integer x such that x is in one of the ranges but not in nums."
   ]
  },
  {
   "cell_type": "code",
   "execution_count": 38,
   "id": "c77f4db6",
   "metadata": {},
   "outputs": [
    {
     "data": {
      "text/plain": [
       "['0', '2', '4->5', '7']"
      ]
     },
     "execution_count": 38,
     "metadata": {},
     "output_type": "execute_result"
    }
   ],
   "source": [
    "nums = [0,2,4,5,7]\n",
    "\n",
    "# Solution\n",
    "def solution(nums):\n",
    "    first = 0\n",
    "    result=[]\n",
    "\n",
    "    for i in range(len(nums)):\n",
    "        if i+1 < len(nums) and nums[i]+1 == nums[i+1]:\n",
    "            continue\n",
    "        if first == i:\n",
    "            result.append(str(nums[first]))\n",
    "        else:\n",
    "            result.append(str(nums[first]) + '->' + str(nums[i]))\n",
    "        first = i+1\n",
    "\n",
    "    return result\n",
    "\n",
    "solution(nums)"
   ]
  },
  {
   "cell_type": "markdown",
   "id": "f957c827",
   "metadata": {},
   "source": [
    "### __231. Power of Two__\n",
    "Given an integer n, return true if it is a power of two. Otherwise, return false.\n",
    "An integer n is a power of two, if there exists an integer x such that n == 2x."
   ]
  },
  {
   "cell_type": "code",
   "execution_count": 37,
   "id": "5a837e5c",
   "metadata": {},
   "outputs": [
    {
     "data": {
      "text/plain": [
       "True"
      ]
     },
     "execution_count": 37,
     "metadata": {},
     "output_type": "execute_result"
    }
   ],
   "source": [
    "n = 32\n",
    "\n",
    "# Solution\n",
    "def solution(n):\n",
    "    if n%2 !=0: return False\n",
    "    low = 0\n",
    "    high = n\n",
    "    while high - low > 1:\n",
    "        if 2**((high + low)/2) == n: return True\n",
    "        if 2**((high + low)/2) > n: high = (high + low)/2\n",
    "        else:\n",
    "            low = (high + low)/2\n",
    "    return False\n",
    "\n",
    "solution(n)"
   ]
  },
  {
   "cell_type": "markdown",
   "id": "b3bade3b",
   "metadata": {},
   "source": [
    "### __242. Valid Anagram__\n",
    "Given two strings s and t, return true if t is an anagram of s, and false otherwise.\n",
    "An Anagram is a word or phrase formed by rearranging the letters of a different word or phrase, typically using all the original letters exactly once."
   ]
  },
  {
   "cell_type": "code",
   "execution_count": 24,
   "id": "2bdd4a52",
   "metadata": {},
   "outputs": [
    {
     "name": "stdout",
     "output_type": "stream",
     "text": [
      "True\n"
     ]
    }
   ],
   "source": [
    "s = \"anagram\"\n",
    "t = \"angaram\"\n",
    "\n",
    "# Solution 1\n",
    "def solution1(s,t):\n",
    "    dict_s = {}\n",
    "    dict_t = {}\n",
    "    if len(s) != len(t): return False\n",
    "    for i in range(len(s)):\n",
    "        if s[i] in dict_s: dict_s[s[i]] += 1\n",
    "        else: dict_s[s[i]] = 1\n",
    "        if t[i] in dict_t: dict_t[t[i]] += 1\n",
    "        else: dict_t[t[i]] = 1\n",
    "    if dict_t == dict_s: return True\n",
    "    return False\n",
    "\n",
    "# Solution2\n",
    "def solution2(s,t):\n",
    "   s = sorted(list(s))\n",
    "   t = sorted(list(t))\n",
    "   if s == t: return True\n",
    "   return False\n",
    "   \n",
    "solution2(s,t)"
   ]
  },
  {
   "cell_type": "markdown",
   "id": "81be9bcf",
   "metadata": {},
   "source": [
    "### __258. Add Digits__\n",
    "Given an integer num, repeatedly add all its digits until the result has only one digit, and return it."
   ]
  },
  {
   "cell_type": "code",
   "execution_count": 36,
   "id": "b46e0448",
   "metadata": {},
   "outputs": [
    {
     "data": {
      "text/plain": [
       "2"
      ]
     },
     "execution_count": 36,
     "metadata": {},
     "output_type": "execute_result"
    }
   ],
   "source": [
    "num = 38\n",
    "\n",
    "# Solution\n",
    "def solution(num):\n",
    "    while len(str(num)) >1:\n",
    "        num = sum(list(map(int, list(str(num)))))\n",
    "    return num\n",
    "solution(num)"
   ]
  },
  {
   "cell_type": "markdown",
   "id": "721bff99",
   "metadata": {},
   "source": [
    "### __263. Ugly Number__\n",
    "An ugly number is a positive integer whose prime factors are limited to 2, 3, and 5.\n",
    "Given an integer n, return true if n is an ugly number."
   ]
  },
  {
   "cell_type": "code",
   "execution_count": 10,
   "id": "8f325bdb",
   "metadata": {},
   "outputs": [
    {
     "data": {
      "text/plain": [
       "True"
      ]
     },
     "execution_count": 10,
     "metadata": {},
     "output_type": "execute_result"
    }
   ],
   "source": [
    "n = 16\n",
    "\n",
    "# Solution\n",
    "def solution(n):\n",
    "    u_numbers = [2,3,5]\n",
    "    for i in u_numbers:\n",
    "        if n%i == 0: return True\n",
    "    return False\n",
    "\n",
    "solution(n)"
   ]
  },
  {
   "cell_type": "markdown",
   "id": "939b3569",
   "metadata": {},
   "source": [
    "### __268. Missing Number__\n",
    "Given an array nums containing n distinct numbers in the range [0, n], return the only number in the range that is missing from the array."
   ]
  },
  {
   "cell_type": "code",
   "execution_count": 14,
   "id": "52f8418c",
   "metadata": {},
   "outputs": [
    {
     "data": {
      "text/plain": [
       "4"
      ]
     },
     "execution_count": 14,
     "metadata": {},
     "output_type": "execute_result"
    }
   ],
   "source": [
    "nums = [3,0,1,2]\n",
    "\n",
    "# Solution\n",
    "def solution(nums):\n",
    "    result  = []\n",
    "    for i in nums:\n",
    "        if i+1 not in nums: result.append(i+1)\n",
    "    if len(result) == 1: return result[0]\n",
    "    if result[0]>result[1]: return result[1]\n",
    "    return result[0]\n",
    "\n",
    "solution(nums)"
   ]
  },
  {
   "cell_type": "markdown",
   "id": "e8e8a88d",
   "metadata": {},
   "source": [
    "### __283. Move Zeroes__\n",
    "Given an integer array nums, move all 0's to the end of it while maintaining the relative order of the non-zero elements.\n",
    "Note that you must do this in-place without making a copy of the array."
   ]
  },
  {
   "cell_type": "code",
   "execution_count": 3,
   "id": "b03d8a3d",
   "metadata": {},
   "outputs": [
    {
     "data": {
      "text/plain": [
       "[1, 3, 12, 0, 0, 0]"
      ]
     },
     "execution_count": 3,
     "metadata": {},
     "output_type": "execute_result"
    }
   ],
   "source": [
    "nums = [0,1,0,3,12,0]\n",
    "\n",
    "# Solution\n",
    "def solution(nums):\n",
    "    for i in range(len(nums)):\n",
    "        if nums[i] == 0:\n",
    "            nums.pop(i)\n",
    "            nums.append(0)\n",
    "    return nums\n",
    "\n",
    "solution(nums)"
   ]
  },
  {
   "cell_type": "markdown",
   "id": "6c10344e",
   "metadata": {},
   "source": [
    "### __290. Word Pattern__\n",
    "Given a pattern and a string s, find if s follows the same pattern.\n",
    "Here follow means a full match, such that there is a bijection between a letter in pattern and a non-empty word in s."
   ]
  },
  {
   "cell_type": "code",
   "execution_count": 19,
   "id": "ebea1aeb",
   "metadata": {},
   "outputs": [
    {
     "data": {
      "text/plain": [
       "True"
      ]
     },
     "execution_count": 19,
     "metadata": {},
     "output_type": "execute_result"
    }
   ],
   "source": [
    "pattern = \"abba\"\n",
    "s = \"dog cat cat dog\"\n",
    "\n",
    "# Solution\n",
    "def solution(pattern, s):\n",
    "    s = s.split(' ')\n",
    "    dict = {}\n",
    "    for i in range(len(pattern)):\n",
    "        if pattern[i] not in dict.keys():\n",
    "            dict[pattern[i]] = s[i]\n",
    "        if dict[pattern[i]] != s[i]:\n",
    "            return False\n",
    "    return True\n",
    "\n",
    "solution(pattern, s)"
   ]
  },
  {
   "cell_type": "code",
   "execution_count": null,
   "id": "7cca5dee",
   "metadata": {},
   "outputs": [],
   "source": []
  }
 ],
 "metadata": {
  "interpreter": {
   "hash": "c0fbb0ce8cdd535267a1474e8612decf41d6983b57d829546a25a2ccc69369e3"
  },
  "kernelspec": {
   "display_name": "Python 3.9.7 ('base')",
   "language": "python",
   "name": "python3"
  },
  "language_info": {
   "codemirror_mode": {
    "name": "ipython",
    "version": 3
   },
   "file_extension": ".py",
   "mimetype": "text/x-python",
   "name": "python",
   "nbconvert_exporter": "python",
   "pygments_lexer": "ipython3",
   "version": "3.9.7"
  }
 },
 "nbformat": 4,
 "nbformat_minor": 5
}
