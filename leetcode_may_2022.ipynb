{
 "cells": [
  {
   "cell_type": "markdown",
   "id": "72eabb72",
   "metadata": {},
   "source": [
    "### __169. Majority Element__  \n",
    "Given an array nums of size n, return the majority element.\n",
    "The majority element is the element that appears more than ⌊n / 2⌋ times. You may assume that the majority element always exists in the array."
   ]
  },
  {
   "cell_type": "code",
   "execution_count": 11,
   "id": "f29c181f",
   "metadata": {},
   "outputs": [
    {
     "name": "stdout",
     "output_type": "stream",
     "text": [
      "4\n"
     ]
    }
   ],
   "source": [
    "nums=[1,2,2,5,3,2,1,4,4,4,4,4,4]\n",
    "\n",
    "def maj_el(nums):\n",
    "    dict={}\n",
    "    result=0\n",
    "    result_count=0\n",
    "    for i in range(len(nums)):\n",
    "        if nums[i] not in dict: dict[nums[i]]=0\n",
    "        dict[nums[i]]+=1\n",
    "        if dict[nums[i]] > result_count:\n",
    "            result=nums[i]\n",
    "            result_count=dict[nums[i]]\n",
    "    return print(result)\n",
    "    \n",
    "maj_el(nums)"
   ]
  },
  {
   "cell_type": "markdown",
   "id": "193a0e26",
   "metadata": {},
   "source": [
    "### __171. Excel Sheet Column Number__   \n",
    "Given a string columnTitle that represents the column title as appear in an Excel sheet, return its corresponding column number."
   ]
  },
  {
   "cell_type": "code",
   "execution_count": 53,
   "id": "50867e0c",
   "metadata": {},
   "outputs": [
    {
     "data": {
      "text/plain": [
       "701"
      ]
     },
     "execution_count": 53,
     "metadata": {},
     "output_type": "execute_result"
    }
   ],
   "source": [
    "columnTitle='zy'\n",
    "# задаем словарь соответствий символа и числа\n",
    "dict_list=list('0abcdefghijklmnopqrstuvwxyz')\n",
    "dict={}\n",
    "for i in range(len(dict_list)):\n",
    "    dict[dict_list[i]]=i\n",
    "\n",
    "# находим результат\n",
    "result=0\n",
    "for i in range(len(columnTitle)):\n",
    "    result+=dict[columnTitle[i]]*(26**(len(columnTitle)-i-1))\n",
    "result"
   ]
  },
  {
   "cell_type": "markdown",
   "id": "e2038f25",
   "metadata": {},
   "source": [
    "### __190. Reverse Bits__\n",
    "Reverse bits of a given 32 bits unsigned integer."
   ]
  },
  {
   "cell_type": "code",
   "execution_count": 20,
   "id": "56ef358a",
   "metadata": {},
   "outputs": [
    {
     "name": "stdout",
     "output_type": "stream",
     "text": [
      "964176192 ( 00111001011110000010100101000000 )\n"
     ]
    }
   ],
   "source": [
    "n = '00000010100101000001111010011100'\n",
    "result_str  = ''\n",
    "result_int = 0\n",
    "count = 0\n",
    "for i in range(len(n)):\n",
    "    result_str += n[len(n)-i-1]\n",
    "    result_int += int(n[i]) * 2**i\n",
    "print (result_int, '(',result_str,')')"
   ]
  },
  {
   "cell_type": "markdown",
   "id": "9a4185f0",
   "metadata": {},
   "source": [
    "### __191. Number of 1 Bits__\n",
    "Write a function that takes an unsigned integer and returns the number of '1' bits it has (also known as the Hamming weight)."
   ]
  },
  {
   "cell_type": "code",
   "execution_count": 23,
   "id": "f976dec5",
   "metadata": {},
   "outputs": [
    {
     "name": "stdout",
     "output_type": "stream",
     "text": [
      "8\n"
     ]
    }
   ],
   "source": [
    "# Solution 1\n",
    "n = '0101010101011100'\n",
    "n.count('1')\n",
    "\n",
    "# Solution 2\n",
    "result = 0\n",
    "for i in n:\n",
    "    if i == '1': result +=1\n",
    "print(result)"
   ]
  }
 ],
 "metadata": {
  "interpreter": {
   "hash": "c0fbb0ce8cdd535267a1474e8612decf41d6983b57d829546a25a2ccc69369e3"
  },
  "kernelspec": {
   "display_name": "Python 3.9.7 ('base')",
   "language": "python",
   "name": "python3"
  },
  "language_info": {
   "codemirror_mode": {
    "name": "ipython",
    "version": 3
   },
   "file_extension": ".py",
   "mimetype": "text/x-python",
   "name": "python",
   "nbconvert_exporter": "python",
   "pygments_lexer": "ipython3",
   "version": "3.9.7"
  }
 },
 "nbformat": 4,
 "nbformat_minor": 5
}
