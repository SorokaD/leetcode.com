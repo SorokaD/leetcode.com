{
 "cells": [
  {
   "cell_type": "markdown",
   "id": "c7c3c100",
   "metadata": {},
   "source": [
    "### __1. Two Sum__  \n",
    "Input: nums = [2,7,11,15], target = 9  \n",
    "Output: [0,1]  \n",
    "Explanation: Because nums[0] + nums[1] == 9, we return [0, 1].  "
   ]
  },
  {
   "cell_type": "code",
   "execution_count": 1,
   "id": "f29c181f",
   "metadata": {},
   "outputs": [
    {
     "name": "stdout",
     "output_type": "stream",
     "text": [
      "[0, 1]\n",
      "[0, 6]\n",
      "[4, 5]\n"
     ]
    }
   ],
   "source": [
    "x = [2,7,11,15,0,9,7]\n",
    "target = 9\n",
    "\n",
    "counter=1\n",
    "for i in range(len(x)):\n",
    "    for j in range(len(x)-i):\n",
    "        if x[i]+x[i+j]==target: \n",
    "            answer=[i,i+j]\n",
    "            print(answer)\n",
    "counter+=1"
   ]
  },
  {
   "cell_type": "markdown",
   "id": "50867e0c",
   "metadata": {},
   "source": [
    "### __9. Palindrome Number__ \n",
    "Input: x = 121  \n",
    "Output: true  \n",
    "Explanation: 121 reads as 121 from left to right and from right to left.  "
   ]
  },
  {
   "cell_type": "code",
   "execution_count": 20,
   "id": "80dd5e07",
   "metadata": {},
   "outputs": [
    {
     "name": "stdout",
     "output_type": "stream",
     "text": [
      "True\n",
      "True\n"
     ]
    }
   ],
   "source": [
    "x = 123321\n",
    "\n",
    "# solution 1\n",
    "if str(x)==str(x)[::-1]: print('True')\n",
    "else: print('False')\n",
    "\n",
    "# solution 2\n",
    "x_str=str(x)\n",
    "x_anti=''\n",
    "l=len(x_str)\n",
    "for i in range(l):\n",
    "    x_anti=x_anti+x_str[l-i-1] # -1  потому что считаем от 0\n",
    "if x_anti==x_str: print('True')\n",
    "else: print('False')"
   ]
  },
  {
   "cell_type": "markdown",
   "id": "71b768da",
   "metadata": {},
   "source": [
    "### __13. Roman to Integer__  \n",
    "Roman numerals are represented by seven different symbols: I, V, X, L, C, D and M."
   ]
  },
  {
   "cell_type": "code",
   "execution_count": 90,
   "id": "e56238bb",
   "metadata": {},
   "outputs": [
    {
     "name": "stdout",
     "output_type": "stream",
     "text": [
      "1994\n"
     ]
    }
   ],
   "source": [
    "rom = 'MCMXCIV'\n",
    "dict={'I': 1, 'V': 5, 'X': 10, 'L': 50, 'C': 100, 'D': 500, 'M': 1000}\n",
    "\n",
    "sum=0\n",
    "l=len(rom)\n",
    "last_big=dict[rom[-1]]\n",
    "for i in range(l-1, -1, -1):\n",
    "    if dict[rom[i]]>=last_big:\n",
    "        last_big=dict[rom[i]]\n",
    "        sum=sum+dict[rom[i]]\n",
    "    if dict[rom[i]]<last_big:\n",
    "        last_big=dict[rom[i]]\n",
    "        sum=sum-dict[rom[i]]\n",
    "print(sum)"
   ]
  },
  {
   "cell_type": "markdown",
   "id": "ac1c11e4",
   "metadata": {},
   "source": [
    "### __14. Longest Common Prefix__   \n",
    "Write a function to find the longest common prefix string amongst an array of strings.\n",
    "If there is no common prefix, return an empty string \"\""
   ]
  },
  {
   "cell_type": "code",
   "execution_count": 40,
   "id": "1c7c4e2f",
   "metadata": {},
   "outputs": [
    {
     "name": "stdout",
     "output_type": "stream",
     "text": [
      "dod\n"
     ]
    }
   ],
   "source": [
    "str=['dodg', 'dododo', 'dodoocker']\n",
    "result=''\n",
    "\n",
    "# находим минимальную длину элемент списка\n",
    "min_len_str=len(str[0])\n",
    "for i in str:\n",
    "    if len(i) < min_len_str: min_len_str=len(i)\n",
    "# проходим 2-мя циклами по элементам списка и их началам\n",
    "for i in range(min_len_str):\n",
    "    count=0\n",
    "    for j in range(len(str)):\n",
    "        if str[j].startswith(result): count+=1\n",
    "    if count==len(str): result=str[j][0:i]\n",
    "print(result)       \n"
   ]
  },
  {
   "cell_type": "markdown",
   "id": "66cd2721",
   "metadata": {},
   "source": [
    "### __20. Valid Parentheses__   \n",
    "Given a string s containing just the characters '(', ')', '{', '}', '[' and ']', determine if the input string is valid."
   ]
  },
  {
   "cell_type": "code",
   "execution_count": 51,
   "id": "68939c80",
   "metadata": {},
   "outputs": [
    {
     "name": "stdout",
     "output_type": "stream",
     "text": [
      "False\n"
     ]
    }
   ],
   "source": [
    "dict={'(': 1. , ')': -1. , '{' : 10.777 , '}' : -10.777 , '[' : 100.666 , ']' : -100.666}\n",
    "str='(){]'\n",
    "\n",
    "count=0.\n",
    "for i in range(len(str)):\n",
    "    count=count+dict[str[i]]\n",
    "if count==0: print('True')\n",
    "else: print('False')"
   ]
  },
  {
   "cell_type": "markdown",
   "id": "a26daa6b",
   "metadata": {},
   "source": [
    "### __21. Merge Two Sorted Lists__  \n",
    "You are given the heads of two sorted linked lists list1 and list2.\n",
    "Merge the two lists in a one sorted list. The list should be made by splicing together the nodes of the first two lists.\n",
    "Return the head of the merged linked list."
   ]
  },
  {
   "cell_type": "code",
   "execution_count": 62,
   "id": "551df6df",
   "metadata": {},
   "outputs": [
    {
     "data": {
      "text/plain": [
       "[]"
      ]
     },
     "execution_count": 62,
     "metadata": {},
     "output_type": "execute_result"
    }
   ],
   "source": [
    "a=[2,4,6,8,10]\n",
    "b=[1,1,19,7,5,3,1]\n",
    "\n",
    "# сортировка пузырьком\n",
    "a.extend(b)\n",
    "for i in range(len(a)):\n",
    "    for j in range(len(a)-1):\n",
    "        if a[j+1]<=a[j]:\n",
    "            a[j], a[j+1] = a[j+1], a[j]\n",
    "print(a)"
   ]
  },
  {
   "cell_type": "markdown",
   "id": "faf28999",
   "metadata": {},
   "source": [
    "### __26. Remove Duplicates from Sorted Array***__  \n",
    "Given an integer array nums sorted in non-decreasing order, remove the duplicates in-place such that each unique element appears only once. The relative order of the elements should be kept the same."
   ]
  },
  {
   "cell_type": "code",
   "execution_count": 68,
   "id": "0c1dd83d",
   "metadata": {},
   "outputs": [
    {
     "data": {
      "text/plain": [
       "[0, 1, 2, 3, 4, 5, 5]"
      ]
     },
     "execution_count": 68,
     "metadata": {},
     "output_type": "execute_result"
    }
   ],
   "source": [
    "nums = [0,0,1,1,1,2,2,3,3,4,4]\n",
    "\n",
    "# solution 1\n",
    "result=list(set(nums))\n",
    "\n",
    "# solution 2\n",
    "result = []\n",
    "for i in nums:\n",
    "    if  i not in result: result.append(i)\n",
    "result\n",
    "\n",
    "nums = [0,1,1,1,2,2,3,3,4,5,5,5,5]\n",
    "# solution 3  НЕ РАБОТАЕТ КАК НАДО !!!!!!!!!!!!!!!!!!!!!!!!!!!!!!\n",
    "result=[]\n",
    "i=0\n",
    "tmp=nums[i]\n",
    "result.append(tmp)\n",
    "while i<(len(nums)-1):\n",
    "    while tmp==nums[i] and i<(len(nums)-1):\n",
    "        i+=1 \n",
    "    tmp=nums[i]\n",
    "    result.append(tmp)\n",
    "result\n"
   ]
  },
  {
   "cell_type": "markdown",
   "id": "ff12b80a",
   "metadata": {},
   "source": [
    "### __27. Remove Element__  \n",
    "Given an integer array nums and an integer val, remove all occurrences of val in nums in-place. The relative order of the elements may be changed."
   ]
  },
  {
   "cell_type": "code",
   "execution_count": 70,
   "id": "1a429395",
   "metadata": {},
   "outputs": [
    {
     "data": {
      "text/plain": [
       "[0, 1, 3, 0, 4, '_', '_', '_']"
      ]
     },
     "execution_count": 70,
     "metadata": {},
     "output_type": "execute_result"
    }
   ],
   "source": [
    "nums = [0,1,2,2,3,0,4,2]\n",
    "val = 2\n",
    "\n",
    "result=[]\n",
    "plus=[]\n",
    "for i in nums:\n",
    "    if i!=val: result.append(i)\n",
    "    else: plus.append('_')\n",
    "result.extend(plus)\n",
    "result"
   ]
  },
  {
   "cell_type": "markdown",
   "id": "9ef79103",
   "metadata": {},
   "source": [
    "### __28. Implement strStr()__  \n",
    "Given two strings needle and haystack, return the index of the first occurrence of needle in haystack, or -1 if needle is not part of haystack."
   ]
  },
  {
   "cell_type": "code",
   "execution_count": 74,
   "id": "dbaa4189",
   "metadata": {},
   "outputs": [
    {
     "data": {
      "text/plain": [
       "-1"
      ]
     },
     "execution_count": 74,
     "metadata": {},
     "output_type": "execute_result"
    }
   ],
   "source": [
    "haystack = \"hello\" \n",
    "needle = \"ddd\"\n",
    "result=-1\n",
    "\n",
    "for i in range(len(haystack)):\n",
    "    if haystack[i:i+len(needle)]==needle: \n",
    "        result=i \n",
    "        break\n",
    "result\n"
   ]
  },
  {
   "cell_type": "markdown",
   "id": "99587e47",
   "metadata": {},
   "source": [
    "### __35. Search Insert Position***__  \n",
    "Given a sorted array of distinct integers and a target value, return the index if the target is found. If not, return the index where it would be if it were inserted in order.  \n",
    "(binary search)"
   ]
  },
  {
   "cell_type": "code",
   "execution_count": 33,
   "id": "391cf6a2",
   "metadata": {},
   "outputs": [
    {
     "data": {
      "text/plain": [
       "2"
      ]
     },
     "execution_count": 33,
     "metadata": {},
     "output_type": "execute_result"
    }
   ],
   "source": [
    "nums=[1,3,5,7,9]\n",
    "target=5\n",
    "\n",
    "result=-1\n",
    "low_ind=0\n",
    "high_ind=len(nums)\n",
    "mean_ind=round((low_ind+high_ind)/2)\n",
    "prev_mean=-1\n",
    "while result==-1:\n",
    "    if nums[mean_ind]==target or prev_mean==mean_ind: result=mean_ind\n",
    "    prev_mean=mean_ind\n",
    "    if target>nums[mean_ind]:\n",
    "        low_ind=mean_ind\n",
    "        mean_ind=round((low_ind+high_ind)/2)\n",
    "    if target<nums[mean_ind]:\n",
    "        high_ind=mean_ind\n",
    "        mean_ind=round((low_ind+high_ind)/2)\n",
    "        \n",
    "result"
   ]
  },
  {
   "cell_type": "markdown",
   "id": "4ae2a5c3",
   "metadata": {},
   "source": [
    "### __53. Maximum Subarray__  \n",
    "Given an integer array nums, find the contiguous subarray (containing at least one number) which has the largest sum and return its sum."
   ]
  },
  {
   "cell_type": "code",
   "execution_count": 49,
   "id": "96cbfb9d",
   "metadata": {},
   "outputs": [
    {
     "data": {
      "text/plain": [
       "5"
      ]
     },
     "execution_count": 49,
     "metadata": {},
     "output_type": "execute_result"
    }
   ],
   "source": [
    "nums = [-2,1,-3,4,-1,2,1,-5,4]\n",
    "nums = [-1,2,3,-4]\n",
    "\n",
    "result=sum(nums)\n",
    "low_ind=0\n",
    "high_ind=len(nums)\n",
    "for i in range(len(nums)):\n",
    "    if sum(nums[low_ind:high_ind-i])>result: \n",
    "        result=sum(nums[low_ind:high_ind-i])\n",
    "        high_ind+=-i\n",
    "    if sum(nums[low_ind+i:high_ind])>result: \n",
    "        result=sum(nums[low_ind+i:high_ind])\n",
    "        low_ind+=i\n",
    "result\n"
   ]
  },
  {
   "cell_type": "markdown",
   "id": "8a40a64b",
   "metadata": {},
   "source": [
    "### __58. Length of Last Word__  \n",
    "Given a string s consisting of some words separated by some number of spaces, return the length of the last word in the string."
   ]
  },
  {
   "cell_type": "code",
   "execution_count": 61,
   "id": "a34ad59a",
   "metadata": {},
   "outputs": [
    {
     "data": {
      "text/plain": [
       "6"
      ]
     },
     "execution_count": 61,
     "metadata": {},
     "output_type": "execute_result"
    }
   ],
   "source": [
    "s = 'Hello world, mother fucker'\n",
    "\n",
    "result=0\n",
    "for i in range(1, len(s)):\n",
    "    if s[len(s)-i] != ' ': result+=1\n",
    "    else: break\n",
    "result"
   ]
  }
 ],
 "metadata": {
  "kernelspec": {
   "display_name": "Python 3",
   "language": "python",
   "name": "python3"
  },
  "language_info": {
   "codemirror_mode": {
    "name": "ipython",
    "version": 3
   },
   "file_extension": ".py",
   "mimetype": "text/x-python",
   "name": "python",
   "nbconvert_exporter": "python",
   "pygments_lexer": "ipython3",
   "version": "3.9.7"
  }
 },
 "nbformat": 4,
 "nbformat_minor": 5
}
