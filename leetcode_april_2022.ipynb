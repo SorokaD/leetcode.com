{
 "cells": [
  {
   "cell_type": "markdown",
   "id": "c7c3c100",
   "metadata": {},
   "source": [
    "### __1. Two Sum__  \n",
    "Input: nums = [2,7,11,15], target = 9  \n",
    "Output: [0,1]  \n",
    "Explanation: Because nums[0] + nums[1] == 9, we return [0, 1].  "
   ]
  },
  {
   "cell_type": "code",
   "execution_count": 1,
   "id": "f29c181f",
   "metadata": {},
   "outputs": [
    {
     "name": "stdout",
     "output_type": "stream",
     "text": [
      "[0, 1]\n",
      "[0, 6]\n",
      "[4, 5]\n"
     ]
    }
   ],
   "source": [
    "x = [2,7,11,15,0,9,7]\n",
    "target = 9\n",
    "\n",
    "counter=1\n",
    "for i in range(len(x)):\n",
    "    for j in range(len(x)-i):\n",
    "        if x[i]+x[i+j]==target: \n",
    "            answer=[i,i+j]\n",
    "            print(answer)\n",
    "counter+=1"
   ]
  },
  {
   "cell_type": "markdown",
   "id": "50867e0c",
   "metadata": {},
   "source": [
    "### __9. Palindrome Number__ \n",
    "Input: x = 121  \n",
    "Output: true  \n",
    "Explanation: 121 reads as 121 from left to right and from right to left.  "
   ]
  },
  {
   "cell_type": "code",
   "execution_count": 20,
   "id": "80dd5e07",
   "metadata": {},
   "outputs": [
    {
     "name": "stdout",
     "output_type": "stream",
     "text": [
      "True\n",
      "True\n"
     ]
    }
   ],
   "source": [
    "x = 123321\n",
    "\n",
    "# solution 1\n",
    "if str(x)==str(x)[::-1]: print('True')\n",
    "else: print('False')\n",
    "\n",
    "# solution 2\n",
    "x_str=str(x)\n",
    "x_anti=''\n",
    "l=len(x_str)\n",
    "for i in range(l):\n",
    "    x_anti=x_anti+x_str[l-i-1] # -1  потому что считаем от 0\n",
    "if x_anti==x_str: print('True')\n",
    "else: print('False')"
   ]
  },
  {
   "cell_type": "markdown",
   "id": "71b768da",
   "metadata": {},
   "source": [
    "### __13. Roman to Integer__  \n",
    "Roman numerals are represented by seven different symbols: I, V, X, L, C, D and M."
   ]
  },
  {
   "cell_type": "code",
   "execution_count": 90,
   "id": "e56238bb",
   "metadata": {},
   "outputs": [
    {
     "name": "stdout",
     "output_type": "stream",
     "text": [
      "1994\n"
     ]
    }
   ],
   "source": [
    "rom = 'MCMXCIV'\n",
    "dict={'I': 1, 'V': 5, 'X': 10, 'L': 50, 'C': 100, 'D': 500, 'M': 1000}\n",
    "\n",
    "sum=0\n",
    "l=len(rom)\n",
    "last_big=dict[rom[-1]]\n",
    "for i in range(l-1, -1, -1):\n",
    "    if dict[rom[i]]>=last_big:\n",
    "        last_big=dict[rom[i]]\n",
    "        sum=sum+dict[rom[i]]\n",
    "    if dict[rom[i]]<last_big:\n",
    "        last_big=dict[rom[i]]\n",
    "        sum=sum-dict[rom[i]]\n",
    "print(sum)"
   ]
  },
  {
   "cell_type": "markdown",
   "id": "ac1c11e4",
   "metadata": {},
   "source": [
    "### __14. Longest Common Prefix__   \n",
    "Write a function to find the longest common prefix string amongst an array of strings.\n",
    "If there is no common prefix, return an empty string \"\""
   ]
  },
  {
   "cell_type": "code",
   "execution_count": 40,
   "id": "1c7c4e2f",
   "metadata": {},
   "outputs": [
    {
     "name": "stdout",
     "output_type": "stream",
     "text": [
      "dod\n"
     ]
    }
   ],
   "source": [
    "str=['dodg', 'dododo', 'dodoocker']\n",
    "result=''\n",
    "\n",
    "# находим минимальную длину элемент списка\n",
    "min_len_str=len(str[0])\n",
    "for i in str:\n",
    "    if len(i) < min_len_str: min_len_str=len(i)\n",
    "# проходим 2-мя циклами по элементам списка и их началам\n",
    "for i in range(min_len_str):\n",
    "    count=0\n",
    "    for j in range(len(str)):\n",
    "        if str[j].startswith(result): count+=1\n",
    "    if count==len(str): result=str[j][0:i]\n",
    "print(result)       \n"
   ]
  },
  {
   "cell_type": "markdown",
   "id": "66cd2721",
   "metadata": {},
   "source": [
    "### __20. Valid Parentheses__   \n",
    "Given a string s containing just the characters '(', ')', '{', '}', '[' and ']', determine if the input string is valid."
   ]
  },
  {
   "cell_type": "code",
   "execution_count": 51,
   "id": "68939c80",
   "metadata": {},
   "outputs": [
    {
     "name": "stdout",
     "output_type": "stream",
     "text": [
      "False\n"
     ]
    }
   ],
   "source": [
    "dict={'(': 1. , ')': -1. , '{' : 10.777 , '}' : -10.777 , '[' : 100.666 , ']' : -100.666}\n",
    "str='(){]'\n",
    "\n",
    "count=0.\n",
    "for i in range(len(str)):\n",
    "    count=count+dict[str[i]]\n",
    "if count==0: print('True')\n",
    "else: print('False')"
   ]
  },
  {
   "cell_type": "markdown",
   "id": "a26daa6b",
   "metadata": {},
   "source": [
    "### __21. Merge Two Sorted Lists__  \n",
    "You are given the heads of two sorted linked lists list1 and list2.\n",
    "Merge the two lists in a one sorted list. The list should be made by splicing together the nodes of the first two lists.\n",
    "Return the head of the merged linked list."
   ]
  },
  {
   "cell_type": "code",
   "execution_count": 62,
   "id": "551df6df",
   "metadata": {},
   "outputs": [
    {
     "data": {
      "text/plain": [
       "[]"
      ]
     },
     "execution_count": 62,
     "metadata": {},
     "output_type": "execute_result"
    }
   ],
   "source": [
    "a=[2,4,6,8,10]\n",
    "b=[1,1,19,7,5,3,1]\n",
    "\n",
    "# сортировка пузырьком\n",
    "a.extend(b)\n",
    "for i in range(len(a)):\n",
    "    for j in range(len(a)-1):\n",
    "        if a[j+1]<=a[j]:\n",
    "            a[j], a[j+1] = a[j+1], a[j]\n",
    "print(a)"
   ]
  },
  {
   "cell_type": "markdown",
   "id": "faf28999",
   "metadata": {},
   "source": [
    "### __26. Remove Duplicates from Sorted Array***__  \n",
    "Given an integer array nums sorted in non-decreasing order, remove the duplicates in-place such that each unique element appears only once. The relative order of the elements should be kept the same."
   ]
  },
  {
   "cell_type": "code",
   "execution_count": 68,
   "id": "0c1dd83d",
   "metadata": {},
   "outputs": [
    {
     "data": {
      "text/plain": [
       "[0, 1, 2, 3, 4, 5, 5]"
      ]
     },
     "execution_count": 68,
     "metadata": {},
     "output_type": "execute_result"
    }
   ],
   "source": [
    "nums = [0,0,1,1,1,2,2,3,3,4,4]\n",
    "\n",
    "# solution 1\n",
    "result=list(set(nums))\n",
    "\n",
    "# solution 2\n",
    "result = []\n",
    "for i in nums:\n",
    "    if  i not in result: result.append(i)\n",
    "result\n",
    "\n",
    "nums = [0,1,1,1,2,2,3,3,4,5,5,5,5]\n",
    "# solution 3  НЕ РАБОТАЕТ КАК НАДО !!!!!!!!!!!!!!!!!!!!!!!!!!!!!!\n",
    "result=[]\n",
    "i=0\n",
    "tmp=nums[i]\n",
    "result.append(tmp)\n",
    "while i<(len(nums)-1):\n",
    "    while tmp==nums[i] and i<(len(nums)-1):\n",
    "        i+=1 \n",
    "    tmp=nums[i]\n",
    "    result.append(tmp)\n",
    "result\n"
   ]
  },
  {
   "cell_type": "markdown",
   "id": "ff12b80a",
   "metadata": {},
   "source": [
    "### __27. Remove Element__  \n",
    "Given an integer array nums and an integer val, remove all occurrences of val in nums in-place. The relative order of the elements may be changed."
   ]
  },
  {
   "cell_type": "code",
   "execution_count": 70,
   "id": "1a429395",
   "metadata": {},
   "outputs": [
    {
     "data": {
      "text/plain": [
       "[0, 1, 3, 0, 4, '_', '_', '_']"
      ]
     },
     "execution_count": 70,
     "metadata": {},
     "output_type": "execute_result"
    }
   ],
   "source": [
    "nums = [0,1,2,2,3,0,4,2]\n",
    "val = 2\n",
    "\n",
    "result=[]\n",
    "plus=[]\n",
    "for i in nums:\n",
    "    if i!=val: result.append(i)\n",
    "    else: plus.append('_')\n",
    "result.extend(plus)\n",
    "result"
   ]
  },
  {
   "cell_type": "markdown",
   "id": "9ef79103",
   "metadata": {},
   "source": [
    "### __28. Implement strStr()__  \n",
    "Given two strings needle and haystack, return the index of the first occurrence of needle in haystack, or -1 if needle is not part of haystack."
   ]
  },
  {
   "cell_type": "code",
   "execution_count": 74,
   "id": "dbaa4189",
   "metadata": {},
   "outputs": [
    {
     "data": {
      "text/plain": [
       "-1"
      ]
     },
     "execution_count": 74,
     "metadata": {},
     "output_type": "execute_result"
    }
   ],
   "source": [
    "haystack = \"hello\" \n",
    "needle = \"ddd\"\n",
    "result=-1\n",
    "\n",
    "for i in range(len(haystack)):\n",
    "    if haystack[i:i+len(needle)]==needle: \n",
    "        result=i \n",
    "        break\n",
    "result\n"
   ]
  },
  {
   "cell_type": "markdown",
   "id": "99587e47",
   "metadata": {},
   "source": [
    "### __35. Search Insert Position***__  \n",
    "Given a sorted array of distinct integers and a target value, return the index if the target is found. If not, return the index where it would be if it were inserted in order.  \n",
    "(binary search)"
   ]
  },
  {
   "cell_type": "code",
   "execution_count": 33,
   "id": "391cf6a2",
   "metadata": {},
   "outputs": [
    {
     "data": {
      "text/plain": [
       "2"
      ]
     },
     "execution_count": 33,
     "metadata": {},
     "output_type": "execute_result"
    }
   ],
   "source": [
    "nums=[1,3,5,7,9]\n",
    "target=5\n",
    "\n",
    "result=-1\n",
    "low_ind=0\n",
    "high_ind=len(nums)\n",
    "mean_ind=round((low_ind+high_ind)/2)\n",
    "prev_mean=-1\n",
    "while result==-1:\n",
    "    if nums[mean_ind]==target or prev_mean==mean_ind: result=mean_ind\n",
    "    prev_mean=mean_ind\n",
    "    if target>nums[mean_ind]:\n",
    "        low_ind=mean_ind\n",
    "        mean_ind=round((low_ind+high_ind)/2)\n",
    "    if target<nums[mean_ind]:\n",
    "        high_ind=mean_ind\n",
    "        mean_ind=round((low_ind+high_ind)/2)\n",
    "        \n",
    "result"
   ]
  },
  {
   "cell_type": "markdown",
   "id": "4ae2a5c3",
   "metadata": {},
   "source": [
    "### __53. Maximum Subarray__  \n",
    "Given an integer array nums, find the contiguous subarray (containing at least one number) which has the largest sum and return its sum."
   ]
  },
  {
   "cell_type": "code",
   "execution_count": 49,
   "id": "96cbfb9d",
   "metadata": {},
   "outputs": [
    {
     "data": {
      "text/plain": [
       "5"
      ]
     },
     "execution_count": 49,
     "metadata": {},
     "output_type": "execute_result"
    }
   ],
   "source": [
    "nums = [-2,1,-3,4,-1,2,1,-5,4]\n",
    "nums = [-1,2,3,-4]\n",
    "\n",
    "result=sum(nums)\n",
    "low_ind=0\n",
    "high_ind=len(nums)\n",
    "for i in range(len(nums)):\n",
    "    if sum(nums[low_ind:high_ind-i])>result: \n",
    "        result=sum(nums[low_ind:high_ind-i])\n",
    "        high_ind+=-i\n",
    "    if sum(nums[low_ind+i:high_ind])>result: \n",
    "        result=sum(nums[low_ind+i:high_ind])\n",
    "        low_ind+=i\n",
    "result\n"
   ]
  },
  {
   "cell_type": "markdown",
   "id": "8a40a64b",
   "metadata": {},
   "source": [
    "### __58. Length of Last Word__  \n",
    "Given a string s consisting of some words separated by some number of spaces, return the length of the last word in the string."
   ]
  },
  {
   "cell_type": "code",
   "execution_count": 61,
   "id": "a34ad59a",
   "metadata": {},
   "outputs": [
    {
     "data": {
      "text/plain": [
       "6"
      ]
     },
     "execution_count": 61,
     "metadata": {},
     "output_type": "execute_result"
    }
   ],
   "source": [
    "s = 'Hello world, mother fucker'\n",
    "\n",
    "result=0\n",
    "for i in range(1, len(s)):\n",
    "    if s[len(s)-i] != ' ': result+=1\n",
    "    else: break\n",
    "result"
   ]
  },
  {
   "cell_type": "markdown",
   "id": "39165ddb",
   "metadata": {},
   "source": [
    "### __66. Plus One__  \n",
    "You are given a large integer represented as an integer array digits, where each digits[i] is the ith digit of the integer. The digits are ordered from most significant to least significant in left-to-right order. The large integer does not contain any leading 0's. Increment the large integer by one and return the resulting array of digits."
   ]
  },
  {
   "cell_type": "code",
   "execution_count": 14,
   "id": "52b0ef9b",
   "metadata": {},
   "outputs": [
    {
     "data": {
      "text/plain": [
       "[1, 2, 5, 7, 0]"
      ]
     },
     "execution_count": 14,
     "metadata": {},
     "output_type": "execute_result"
    }
   ],
   "source": [
    "digits=[1,2,5,6,9]\n",
    "\n",
    "l=len(digits)\n",
    "result=0\n",
    "# переводим список в число\n",
    "for i in range(l):\n",
    "    result=result+digits[l-i-1]*10**i\n",
    "# переводим число+1 в список\n",
    "result=list(map(int, str(result+1)))\n",
    "result\n",
    "    "
   ]
  },
  {
   "cell_type": "markdown",
   "id": "ed724f13",
   "metadata": {},
   "source": [
    "### __67. Add Binary***__ \n",
    "Given two binary strings a and b, return their sum as a binary string."
   ]
  },
  {
   "cell_type": "code",
   "execution_count": null,
   "id": "00d34f61",
   "metadata": {},
   "outputs": [],
   "source": []
  },
  {
   "cell_type": "markdown",
   "id": "7958d464",
   "metadata": {},
   "source": [
    "### __69. Sqrt(x)__  \n",
    "Given a non-negative integer x, compute and return the square root of x.\n",
    "Since the return type is an integer, the decimal digits are truncated, and only the integer part of the result is returned."
   ]
  },
  {
   "cell_type": "code",
   "execution_count": 23,
   "id": "d4070bdd",
   "metadata": {},
   "outputs": [
    {
     "data": {
      "text/plain": [
       "11.0"
      ]
     },
     "execution_count": 23,
     "metadata": {},
     "output_type": "execute_result"
    }
   ],
   "source": [
    "x = 121\n",
    "\n",
    "result=0\n",
    "low_ind=0\n",
    "high_ind=x\n",
    "middle=round(x/2)\n",
    "while result==0:\n",
    "    if middle*middle == x : result = middle\n",
    "    if middle*middle > x : high_ind=middle\n",
    "    else: low_ind=middle\n",
    "    middle = (low_ind + high_ind) / 2\n",
    "result"
   ]
  },
  {
   "cell_type": "markdown",
   "id": "a9b65912",
   "metadata": {},
   "source": [
    "### __70. Climbing Stairs__  \n",
    "You are climbing a staircase. It takes n steps to reach the top. Each time you can either climb 1 or 2 steps. In how many distinct ways can you climb to the top?"
   ]
  },
  {
   "cell_type": "code",
   "execution_count": null,
   "id": "efd95271",
   "metadata": {},
   "outputs": [],
   "source": []
  },
  {
   "cell_type": "markdown",
   "id": "cd7193b0",
   "metadata": {},
   "source": [
    "### __83. Remove Duplicates from Sorted List__  \n",
    "Given the head of a sorted linked list, delete all duplicates such that each element appears only once. Return the linked list sorted as well."
   ]
  },
  {
   "cell_type": "code",
   "execution_count": 35,
   "id": "fba8f72a",
   "metadata": {},
   "outputs": [
    {
     "data": {
      "text/plain": [
       "[1, 2, 3, 4, 5, 6, 7, 8, 10]"
      ]
     },
     "execution_count": 35,
     "metadata": {},
     "output_type": "execute_result"
    }
   ],
   "source": [
    "head = [1,1,2,3,4,5,5,5,6,7,8,8,8,8,8,10]\n",
    "result=[]\n",
    "for i in head:\n",
    "    if  i not in result: result.append(i)\n",
    "result"
   ]
  },
  {
   "cell_type": "markdown",
   "id": "15df50df",
   "metadata": {},
   "source": [
    "### __88. Merge Sorted Array***__  \n",
    "You are given two integer arrays nums1 and nums2, sorted in non-decreasing order, and two integers m and n, representing the number of elements in nums1 and nums2 respectively. Merge nums1 and nums2 into a single array sorted in non-decreasing order."
   ]
  },
  {
   "cell_type": "code",
   "execution_count": 77,
   "id": "98352bef",
   "metadata": {},
   "outputs": [
    {
     "data": {
      "text/plain": [
       "[1, 2, 2, 3, 6]"
      ]
     },
     "execution_count": 77,
     "metadata": {},
     "output_type": "execute_result"
    }
   ],
   "source": [
    "nums1=[1,2,3,0,0]\n",
    "n=3\n",
    "nums2=[2,6,7,8]\n",
    "m=2\n",
    "\n",
    "# solution1\n",
    "del nums1[n:len(nums1)]\n",
    "nums1.extend(nums2[0:m])\n",
    "nums1.sort()\n",
    "nums1"
   ]
  },
  {
   "cell_type": "markdown",
   "id": "051b1ba1",
   "metadata": {},
   "source": [
    "### __94-112. Binary Tree***__  \n",
    "Given the root of a binary tree, return the inorder traversal of its nodes' values."
   ]
  },
  {
   "cell_type": "code",
   "execution_count": null,
   "id": "a50845bc",
   "metadata": {},
   "outputs": [],
   "source": []
  },
  {
   "cell_type": "markdown",
   "id": "32bd42eb",
   "metadata": {},
   "source": [
    "### __118. Pascal's Triangle__   \n",
    "Given an integer numRows, return the first numRows of Pascal's triangle.\n",
    "In Pascal's triangle, each number is the sum of the two numbers directly above it as shown:"
   ]
  },
  {
   "cell_type": "code",
   "execution_count": 8,
   "id": "e5f75f97",
   "metadata": {},
   "outputs": [
    {
     "data": {
      "text/plain": [
       "[[1], [1, 1], [1, 2, 1]]"
      ]
     },
     "execution_count": 8,
     "metadata": {},
     "output_type": "execute_result"
    }
   ],
   "source": [
    "numRows=3\n",
    "\n",
    "result=[[1]]\n",
    "for i in range(numRows-1):\n",
    "    prev=result[i]\n",
    "    temp=[1]\n",
    "    for j in range(1,len(prev)): temp.append(prev[j-1]+prev[j])\n",
    "    temp.append(1)\n",
    "    result.append(temp)\n",
    "result"
   ]
  },
  {
   "cell_type": "markdown",
   "id": "79d71652",
   "metadata": {},
   "source": [
    "### __119. Pascal's Triangle II__  \n",
    "Given an integer rowIndex, return the rowIndexth (0-indexed) row of the Pascal's triangle."
   ]
  },
  {
   "cell_type": "code",
   "execution_count": 14,
   "id": "5867fcd8",
   "metadata": {},
   "outputs": [
    {
     "data": {
      "text/plain": [
       "[1, 3, 3, 1]"
      ]
     },
     "execution_count": 14,
     "metadata": {},
     "output_type": "execute_result"
    }
   ],
   "source": [
    "rowIndex=3\n",
    "\n",
    "result=[[1]]\n",
    "for i in range(rowIndex):\n",
    "    prev=result[i]\n",
    "    temp=[1]\n",
    "    for j in range(1,len(prev)): temp.append(prev[j-1]+prev[j])\n",
    "    temp.append(1)\n",
    "    result.append(temp)\n",
    "result[rowIndex]"
   ]
  },
  {
   "cell_type": "markdown",
   "id": "7e7d0d77",
   "metadata": {},
   "source": [
    "### __121. Best Time to Buy and Sell Stock__  \n",
    "You are given an array prices where prices[i] is the price of a given stock on the ith day.\n",
    "You want to maximize your profit by choosing a single day to buy one stock and choosing a different day in the future to sell that stock."
   ]
  },
  {
   "cell_type": "code",
   "execution_count": 37,
   "id": "7c524328",
   "metadata": {},
   "outputs": [
    {
     "data": {
      "text/plain": [
       "13"
      ]
     },
     "execution_count": 37,
     "metadata": {},
     "output_type": "execute_result"
    }
   ],
   "source": [
    "prices = [7,6,1,14,1,8]\n",
    "\n",
    "result=0\n",
    "min_ind=prices.index(min(prices))\n",
    "if min_ind==len(prices)-1 : result=0\n",
    "else: \n",
    "    max_ind=prices.index(max(prices[min_ind:]))\n",
    "    result=prices[max_ind]-prices[min_ind]\n",
    "result"
   ]
  },
  {
   "cell_type": "markdown",
   "id": "57828fb2",
   "metadata": {},
   "source": [
    "### __125. Valid Palindrome__  \n",
    "A phrase is a palindrome if, after converting all uppercase letters into lowercase letters and removing all non-alphanumeric characters, it reads the same forward and backward. Alphanumeric characters include letters and numbers."
   ]
  },
  {
   "cell_type": "code",
   "execution_count": 80,
   "id": "7556ef83",
   "metadata": {},
   "outputs": [
    {
     "name": "stdout",
     "output_type": "stream",
     "text": [
      "True\n"
     ]
    }
   ],
   "source": [
    "s = \"A man, a plan, a canal: Panama\"\n",
    "\n",
    "# solution1\n",
    "temp=''\n",
    "s=list(s.lower())\n",
    "dict=list('abcdefghijklmnopqrstuvwxyz')\n",
    "for i in s:\n",
    "    if i in dict: \n",
    "        temp+=i\n",
    "if temp==temp[::-1]: print('True')\n",
    "else: print('False')"
   ]
  },
  {
   "cell_type": "markdown",
   "id": "a83f33bc",
   "metadata": {},
   "source": [
    "### __136. Single Number__  \n",
    "Given a non-empty array of integers nums, every element appears twice except for one. Find that single one.\n",
    "You must implement a solution with a linear runtime complexity and use only constant extra space."
   ]
  },
  {
   "cell_type": "code",
   "execution_count": 15,
   "id": "e4bfc0bf",
   "metadata": {},
   "outputs": [
    {
     "data": {
      "text/plain": [
       "1"
      ]
     },
     "execution_count": 15,
     "metadata": {},
     "output_type": "execute_result"
    }
   ],
   "source": [
    "nums = [2,2,1]\n",
    "\n",
    "# solution1\n",
    "result=False\n",
    "for i in nums:\n",
    "    if nums.count(i)==1: result=i\n",
    "result\n",
    "\n",
    "# solution2\n",
    "result=0\n",
    "for num in nums:\n",
    "        result = result^num\n",
    "result"
   ]
  },
  {
   "cell_type": "markdown",
   "id": "96b72e08",
   "metadata": {},
   "source": [
    "### __141. Linked List Cycle***__\n",
    "Given head, the head of a linked list, determine if the linked list has a cycle in it.\n",
    "There is a cycle in a linked list if there is some node in the list that can be reached again by continuously following the next pointer. Internally, pos is used to denote the index of the node that tail's next pointer is connected to. Note that pos is not passed as a parameter."
   ]
  },
  {
   "cell_type": "code",
   "execution_count": 14,
   "id": "4e9c4de9",
   "metadata": {},
   "outputs": [
    {
     "data": {
      "text/plain": [
       "1"
      ]
     },
     "execution_count": 14,
     "metadata": {},
     "output_type": "execute_result"
    }
   ],
   "source": [
    "\n"
   ]
  },
  {
   "cell_type": "markdown",
   "id": "cca802e7",
   "metadata": {},
   "source": [
    "### __144,145,155. ***___"
   ]
  },
  {
   "cell_type": "code",
   "execution_count": null,
   "id": "1ff662ee",
   "metadata": {},
   "outputs": [],
   "source": []
  },
  {
   "cell_type": "markdown",
   "id": "519f9236",
   "metadata": {},
   "source": [
    "### __160. Intersection of Two Linked Lists__  \n",
    "Given the heads of two singly linked-lists headA and headB, return the node at which the two lists intersect. If the two linked lists have no intersection at all, return null."
   ]
  },
  {
   "cell_type": "code",
   "execution_count": 20,
   "id": "bde601c2",
   "metadata": {},
   "outputs": [
    {
     "data": {
      "text/plain": [
       "8"
      ]
     },
     "execution_count": 20,
     "metadata": {},
     "output_type": "execute_result"
    }
   ],
   "source": [
    "intersectVal = 8\n",
    "listA = [4,1,8,4,5]\n",
    "listB = [5,6,1,8,4,5]\n",
    "skipA = 2\n",
    "skipB = 3\n",
    "\n",
    "if listA[skipA:]==listB[skipB:] and listA[skipA]==intersectVal: result=intersectVal \n",
    "else: result='No intersection'\n",
    "result"
   ]
  },
  {
   "cell_type": "markdown",
   "id": "fa580f87",
   "metadata": {},
   "source": [
    "### __168. Excel Sheet Column Title__  \n",
    "Given an integer columnNumber, return its corresponding column title as it appears in an Excel sheet."
   ]
  },
  {
   "cell_type": "code",
   "execution_count": 1,
   "id": "0b9cdf6a",
   "metadata": {},
   "outputs": [
    {
     "name": "stdout",
     "output_type": "stream",
     "text": [
      "0\n",
      "1\n"
     ]
    },
    {
     "data": {
      "text/plain": [
       "'aay'"
      ]
     },
     "execution_count": 1,
     "metadata": {},
     "output_type": "execute_result"
    }
   ],
   "source": [
    "columnNumber=701\n",
    "\n",
    "result=''\n",
    "dict=list('abcdefghijklmnopqrstuvwxyz')\n",
    "full=columnNumber\n",
    "for i in range(len(dict)):\n",
    "    tmp1 = full//(len(dict)-i) # целая часть\n",
    "    tmp2 = full%(len(dict)-i) # остаток\n",
    "\n",
    "\n",
    "\n",
    "\n",
    "    \n",
    "    if tmp1 == 0:\n",
    "        result = result+dict[tmp2-1]\n",
    "        break\n",
    "    if tmp1 !=0: \n",
    "        full=tmp1\n",
    "        result=result+dict[tmp2-1]\n",
    "        print(i)\n",
    "\n",
    "    \n",
    "result[::-1]"
   ]
  },
  {
   "cell_type": "code",
   "execution_count": 2,
   "id": "8c4874ff",
   "metadata": {},
   "outputs": [
    {
     "data": {
      "text/plain": [
       "'ab'"
      ]
     },
     "execution_count": 2,
     "metadata": {},
     "output_type": "execute_result"
    }
   ],
   "source": [
    "columnNumber=28\n",
    "\n",
    "result=''\n",
    "\n",
    "dict=(list('abcdefghijklmnopqrstuvwxyz'))\n",
    "\n",
    "while columnNumber//26>=1:\n",
    "    temp1= columnNumber//26\n",
    "    temp2= columnNumber%26\n",
    "    columnNumber=temp1\n",
    "    result=result+dict[temp2-1]\n",
    "\n",
    "temp2= columnNumber%26\n",
    "if temp2 !=0 : \n",
    "    result=result+dict[temp2-1]\n",
    "\n",
    "result[::-1]\n"
   ]
  }
 ],
 "metadata": {
  "kernelspec": {
   "display_name": "Python 3",
   "language": "python",
   "name": "python3"
  },
  "language_info": {
   "codemirror_mode": {
    "name": "ipython",
    "version": 3
   },
   "file_extension": ".py",
   "mimetype": "text/x-python",
   "name": "python",
   "nbconvert_exporter": "python",
   "pygments_lexer": "ipython3",
   "version": "3.9.7"
  }
 },
 "nbformat": 4,
 "nbformat_minor": 5
}
