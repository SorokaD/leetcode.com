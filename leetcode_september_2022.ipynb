{
 "cells": [
  {
   "cell_type": "markdown",
   "id": "424ee906",
   "metadata": {},
   "source": [
    "### __459. Repeated Substring Pattern__\n",
    "Given a string s, check if it can be constructed by taking a substring of it and appending multiple copies of the substring together."
   ]
  },
  {
   "cell_type": "code",
   "execution_count": 27,
   "id": "9074e1b2",
   "metadata": {},
   "outputs": [
    {
     "data": {
      "text/plain": [
       "True"
      ]
     },
     "execution_count": 27,
     "metadata": {},
     "output_type": "execute_result"
    }
   ],
   "source": [
    "s = \"abcabc\"\n",
    "\n",
    "# Solution\n",
    "def solution(s):\n",
    "    for i in range(int(len(s)/2)):\n",
    "        k = int(len(s)/len(s[0:i+1]))\n",
    "        if len(s)%len(s[0:i+1]) != 0: continue\n",
    "        if s[0:i+1]*k == s : return True\n",
    "    return False\n",
    "\n",
    "solution(s)"
   ]
  },
  {
   "cell_type": "markdown",
   "id": "9f265311",
   "metadata": {},
   "source": [
    "### __463. Island Perimeter__\n",
    "You are given row x col grid representing a map where grid[i][j] = 1 represents land and grid[i][j] = 0 represents water.\n",
    "\n",
    "Grid cells are connected horizontally/vertically (not diagonally). The grid is completely surrounded by water, and there is exactly one island (i.e., one or more connected land cells).\n",
    "\n",
    "The island doesn't have \"lakes\", meaning the water inside isn't connected to the water around the island. One cell is a square with side length 1. The grid is rectangular, width and height don't exceed 100. Determine the perimeter of the island."
   ]
  },
  {
   "cell_type": "code",
   "execution_count": 16,
   "id": "edd1c722",
   "metadata": {},
   "outputs": [
    {
     "data": {
      "text/plain": [
       "0"
      ]
     },
     "execution_count": 16,
     "metadata": {},
     "output_type": "execute_result"
    }
   ],
   "source": [
    "grid = [[0,1,0,0],[1,1,1,0],[0,1,0,0],[1,1,0,0]]\n",
    "\n",
    "# Solution\n",
    "def solution(grid):\n",
    "    "
   ]
  },
  {
   "cell_type": "markdown",
   "id": "aaadeaaf",
   "metadata": {},
   "source": [
    "### __482. License Key Formatting__  \n",
    "You are given a license key represented as a string s that consists of only alphanumeric characters and dashes. The string is separated into n + 1 groups by n dashes. You are also given an integer k.\n",
    "\n",
    "We want to reformat the string s such that each group contains exactly k characters, except for the first group, which could be shorter than k but still must contain at least one character. Furthermore, there must be a dash inserted between two groups, and you should convert all lowercase letters to uppercase.\n",
    "\n",
    "Return the reformatted license key.\n"
   ]
  },
  {
   "cell_type": "code",
   "execution_count": 33,
   "id": "ef4f5679",
   "metadata": {},
   "outputs": [
    {
     "data": {
      "text/plain": [
       "'5F3Z-2e9w'"
      ]
     },
     "execution_count": 33,
     "metadata": {},
     "output_type": "execute_result"
    }
   ],
   "source": [
    "s = \"5F3Z-2e-9-w\"\n",
    "k = 4\n",
    "\n",
    "# Solution\n",
    "def solution(s,k):\n",
    "    i=0\n",
    "    result = ''\n",
    "    while s[i] != '-':\n",
    "        result +=s[i]\n",
    "        i += 1\n",
    "    result +='-'\n",
    "    f = 0\n",
    "    for j in s[i:]:\n",
    "        if j != '-':\n",
    "            if f == k : \n",
    "                result += '-'\n",
    "                continue\n",
    "            result += j\n",
    "            f += 1\n",
    "    return result\n",
    "\n",
    "solution(s,k)\n",
    "\n",
    "# было настроение, поигрался с циклами\n",
    "# все можно сделать изящнее"
   ]
  },
  {
   "cell_type": "markdown",
   "id": "a57c8bd8",
   "metadata": {},
   "source": [
    "### __485. Max Consecutive Ones__\n",
    "Given a binary array nums, return the maximum number of consecutive 1's in the array."
   ]
  },
  {
   "cell_type": "code",
   "execution_count": 12,
   "id": "e0067469",
   "metadata": {},
   "outputs": [
    {
     "data": {
      "text/plain": [
       "4"
      ]
     },
     "execution_count": 12,
     "metadata": {},
     "output_type": "execute_result"
    }
   ],
   "source": [
    "nums = [1,1,0,1,1,1,1]\n",
    "\n",
    "# Solution\n",
    "def solution(nums):\n",
    "    count = 0\n",
    "    result = 0\n",
    "    for i in nums:\n",
    "        if i==0:\n",
    "            if count>result: result=count\n",
    "            count = 0\n",
    "            continue\n",
    "        else:\n",
    "            count +=1\n",
    "            if count>result: result=count\n",
    "    return result\n",
    "\n",
    "solution(nums)\n"
   ]
  },
  {
   "cell_type": "markdown",
   "id": "37b56fa0",
   "metadata": {},
   "source": [
    "### __492. Construct the Rectangle__  \n",
    "A web developer needs to know how to design a web page's size. So, given a specific rectangular web page’s area, your job by now is to design a rectangular web page, whose length L and width W satisfy the following requirements:\n",
    "\n",
    "The area of the rectangular web page you designed must equal to the given target area.\n",
    "The width W should not be larger than the length L, which means L >= W.\n",
    "The difference between length L and width W should be as small as possible.\n",
    "Return an array [L, W] where L and W are the length and width of the web page you designed in sequence."
   ]
  },
  {
   "cell_type": "code",
   "execution_count": 34,
   "id": "af960573",
   "metadata": {},
   "outputs": [
    {
     "data": {
      "text/plain": [
       "[427, 286]"
      ]
     },
     "execution_count": 34,
     "metadata": {},
     "output_type": "execute_result"
    }
   ],
   "source": [
    "area = 122122\n",
    "\n",
    "# Solution\n",
    "import math\n",
    "def solution(area):\n",
    "        mid = int(math.sqrt(area))\n",
    "        while mid > 0:\n",
    "            if area % mid == 0:\n",
    "                return [int(area / mid), int(mid)]\n",
    "            mid -= 1\n",
    "solution(area)"
   ]
  },
  {
   "cell_type": "markdown",
   "id": "3aaa88ea",
   "metadata": {},
   "source": [
    "### __495. Teemo Attacking__  \n",
    "Our hero Teemo is attacking an enemy Ashe with poison attacks! When Teemo attacks Ashe, Ashe gets poisoned for a exactly duration seconds. More formally, an attack at second t will mean Ashe is poisoned during the inclusive time interval [t, t + duration - 1]. If Teemo attacks again before the poison effect ends, the timer for it is reset, and the poison effect will end duration seconds after the new attack.\n",
    "\n",
    "You are given a non-decreasing integer array timeSeries, where timeSeries[i] denotes that Teemo attacks Ashe at second timeSeries[i], and an integer duration.\n",
    "\n",
    "Return the total number of seconds that Ashe is poisoned."
   ]
  },
  {
   "cell_type": "code",
   "execution_count": 4,
   "id": "a140dd17",
   "metadata": {},
   "outputs": [
    {
     "data": {
      "text/plain": [
       "3"
      ]
     },
     "execution_count": 4,
     "metadata": {},
     "output_type": "execute_result"
    }
   ],
   "source": [
    "timeSeries = [1,2]\n",
    "duration = 2\n",
    "\n",
    "# Solution\n",
    "def solution(ts, duration):\n",
    "    result = duration\n",
    "    for i in range(1,len(ts)):\n",
    "        if ts[i]-ts[i-1]>=duration : \n",
    "            result += duration\n",
    "        else: result += ts[i]-ts[i-1]\n",
    "    return(result)\n",
    "\n",
    "solution(timeSeries, duration)\n"
   ]
  },
  {
   "cell_type": "markdown",
   "id": "ed25895d",
   "metadata": {},
   "source": [
    "### __500. Keyboard Row__  \n",
    "Given an array of strings words, return the words that can be typed using letters of the alphabet on only one row of American keyboard like the image below.\n",
    "\n",
    "In the American keyboard:\n",
    "\n",
    "the first row consists of the characters \"qwertyuiop\",\n",
    "the second row consists of the characters \"asdfghjkl\", and\n",
    "the third row consists of the characters \"zxcvbnm\"."
   ]
  },
  {
   "cell_type": "code",
   "execution_count": 22,
   "id": "5a944ca6",
   "metadata": {},
   "outputs": [
    {
     "data": {
      "text/plain": [
       "['Alaska', 'Dad']"
      ]
     },
     "execution_count": 22,
     "metadata": {},
     "output_type": "execute_result"
    }
   ],
   "source": [
    "words = [\"Hello\",\"Alaska\",\"Dad\",\"Peace\"]\n",
    "\n",
    "# Solution\n",
    "def solution(words):\n",
    "    row1 = list('qwertyuiop')\n",
    "    row2 = list('asdfghjkl')\n",
    "    row3 = list('zxcvbnm')\n",
    "    result = []\n",
    "    for i in words:\n",
    "        if set(i.lower()).issubset(set(row1)) or (set(i.lower()).issubset(set(row2))) or (set(i.lower()).issubset(set(row3))): result.append(i)\n",
    "    return result\n",
    "solution(words)"
   ]
  },
  {
   "cell_type": "markdown",
   "id": "38025fa7",
   "metadata": {},
   "source": [
    "### __507. Perfect Number__  \n",
    "A perfect number is a positive integer that is equal to the sum of its positive divisors, excluding the number itself. A divisor of an integer x is an integer that can divide x evenly.\n",
    "\n",
    "Given an integer n, return true if n is a perfect number, otherwise return false."
   ]
  },
  {
   "cell_type": "code",
   "execution_count": 15,
   "id": "6e1a2e7a",
   "metadata": {},
   "outputs": [
    {
     "data": {
      "text/plain": [
       "False"
      ]
     },
     "execution_count": 15,
     "metadata": {},
     "output_type": "execute_result"
    }
   ],
   "source": [
    "num = 7\n",
    "\n",
    "# Solution\n",
    "def solution(num):\n",
    "    result = 0\n",
    "    for i in range(1, int(num/2)+1):\n",
    "        if num%i == 0: result += i\n",
    "        if result == num : return True\n",
    "    return False\n",
    "\n",
    "solution(num)"
   ]
  },
  {
   "cell_type": "markdown",
   "id": "6324fc09",
   "metadata": {},
   "source": [
    "### __509. Fibonacci Number__  \n",
    "The Fibonacci numbers, commonly denoted F(n) form a sequence, called the Fibonacci sequence, such that each number is the sum of the two preceding ones, starting from 0 and 1. That is,"
   ]
  },
  {
   "cell_type": "code",
   "execution_count": 49,
   "id": "5c026f69",
   "metadata": {},
   "outputs": [
    {
     "data": {
      "text/plain": [
       "8"
      ]
     },
     "execution_count": 49,
     "metadata": {},
     "output_type": "execute_result"
    }
   ],
   "source": [
    "n = 6\n",
    "\n",
    "# Solution\n",
    "def solution(n):\n",
    "    result_prev = 0\n",
    "    result_next = 1\n",
    "    result = 0\n",
    "    for i in range(n-1):\n",
    "        result = result_prev+result_next\n",
    "        result_prev = result_next\n",
    "        result_next = result\n",
    "    return result\n",
    "\n",
    "solution(n)\n"
   ]
  },
  {
   "cell_type": "markdown",
   "id": "3b726383",
   "metadata": {},
   "source": [
    "### __520. Detect Capital__  \n",
    "We define the usage of capitals in a word to be right when one of the following cases holds:\n",
    "\n",
    "All letters in this word are capitals, like \"USA\".\n",
    "All letters in this word are not capitals, like \"leetcode\".\n",
    "Only the first letter in this word is capital, like \"Google\".\n",
    "Given a string word, return true if the usage of capitals in it is right."
   ]
  },
  {
   "cell_type": "code",
   "execution_count": 4,
   "id": "49d4666c",
   "metadata": {},
   "outputs": [
    {
     "data": {
      "text/plain": [
       "True"
      ]
     },
     "execution_count": 4,
     "metadata": {},
     "output_type": "execute_result"
    }
   ],
   "source": [
    "word = \"Usfsfsfd\"\n",
    "\n",
    "# Solution\n",
    "def solution(w):\n",
    "    if w.isupper() or w.islower(): return True\n",
    "    if w[0].isupper() and w[1:].islower(): return True\n",
    "    return False\n",
    "\n",
    "solution(word)\n"
   ]
  },
  {
   "cell_type": "markdown",
   "id": "fc479cdc",
   "metadata": {},
   "source": [
    "### __521. Longest Uncommon Subsequence I__  \n",
    "Given two strings a and b, return the length of the longest uncommon subsequence between a and b. If the longest uncommon subsequence does not exist, return -1.\n",
    "\n",
    "An uncommon subsequence between two strings is a string that is a subsequence of one but not the other.\n",
    "\n",
    "A subsequence of a string s is a string that can be obtained after deleting any number of characters from s.\n",
    "\n",
    "For example, \"abc\" is a subsequence of \"aebdc\" because you can delete the underlined characters in \"aebdc\" to get \"abc\". Other subsequences of \"aebdc\" include \"aebdc\", \"aeb\", and \"\" (empty string)."
   ]
  },
  {
   "cell_type": "code",
   "execution_count": 24,
   "id": "56e4c71e",
   "metadata": {},
   "outputs": [
    {
     "data": {
      "text/plain": [
       "3"
      ]
     },
     "execution_count": 24,
     "metadata": {},
     "output_type": "execute_result"
    }
   ],
   "source": [
    "a = \"aba\"\n",
    "b = \"cdc\"\n",
    "\n",
    "# Solution \n",
    "def solution(a,b):\n",
    "    intersection = set(a)&set(b)\n",
    "    res_a = ''\n",
    "    res_b = ''\n",
    "    for i in a: \n",
    "        if i not in intersection: res_a += i\n",
    "    for i in b: \n",
    "        if i not in intersection: res_b += i\n",
    "    if (len(res_a)==0) and (len(res_b)==0) : return -1\n",
    "    if len(res_a)>=len(res_b): return len(res_a)\n",
    "    return len(res_b)\n",
    "\n",
    "solution(a,b)"
   ]
  },
  {
   "cell_type": "markdown",
   "id": "c1ea1c98",
   "metadata": {},
   "source": [
    "### __541. Reverse String II__  \n",
    "Given a string s and an integer k, reverse the first k characters for every 2k characters counting from the start of the string.\n",
    "\n",
    "If there are fewer than k characters left, reverse all of them. If there are less than 2k but greater than or equal to k characters, then reverse the first k characters and leave the other as original."
   ]
  },
  {
   "cell_type": "code",
   "execution_count": 13,
   "id": "c9c7079c",
   "metadata": {},
   "outputs": [
    {
     "data": {
      "text/plain": [
       "'bacdefg'"
      ]
     },
     "execution_count": 13,
     "metadata": {},
     "output_type": "execute_result"
    }
   ],
   "source": [
    "s = \"abcdefg\"\n",
    "k = 2\n",
    "\n",
    "# Solution\n",
    "def solution(s,k):\n",
    "    result = ''\n",
    "    for i in range(k):\n",
    "        result += s[k-i-1]\n",
    "    result += s[k:]\n",
    "    return result\n",
    "\n",
    "solution(s,k)"
   ]
  },
  {
   "cell_type": "markdown",
   "id": "431e6b1b",
   "metadata": {},
   "source": [
    "### __551. Student Attendance Record I___\n",
    "You are given a string s representing an attendance record for a student where each character signifies whether the student was absent, late, or present on that day. The record only contains the following three characters:\n",
    "\n",
    "'A': Absent.\n",
    "'L': Late.\n",
    "'P': Present.\n",
    "The student is eligible for an attendance award if they meet both of the following criteria:\n",
    "\n",
    "The student was absent ('A') for strictly fewer than 2 days total.\n",
    "The student was never late ('L') for 3 or more consecutive days.\n",
    "Return true if the student is eligible for an attendance award, or false otherwise."
   ]
  },
  {
   "cell_type": "code",
   "execution_count": 12,
   "id": "6f2ba8c9",
   "metadata": {},
   "outputs": [
    {
     "data": {
      "text/plain": [
       "False"
      ]
     },
     "execution_count": 12,
     "metadata": {},
     "output_type": "execute_result"
    }
   ],
   "source": [
    "s = \"PPALLLP\"\n",
    "\n",
    "# Solution\n",
    "def solution(s):\n",
    "    count_A = 0\n",
    "    count_L = 0\n",
    "    prev_s = ''\n",
    "    for i in s:\n",
    "        if prev_s != 'L': count_L = 0\n",
    "        if i == 'A': count_A += 1\n",
    "        if i == 'L': count_L += 1\n",
    "        if count_L == 3: return False\n",
    "        prev_s = i\n",
    "    if count_A >= 2: return False\n",
    "    return True\n",
    "\n",
    "solution(s)\n"
   ]
  },
  {
   "cell_type": "markdown",
   "id": "184e3285",
   "metadata": {},
   "source": [
    "### __557. Reverse Words in a String III__  \n",
    "Given a string s, reverse the order of characters in each word within a sentence while still preserving whitespace and initial word order."
   ]
  },
  {
   "cell_type": "code",
   "execution_count": 18,
   "id": "92c17f4c",
   "metadata": {},
   "outputs": [
    {
     "data": {
      "text/plain": [
       "[\"s'teL\", 'ekat', 'edoCteeL', 'tsetnoc']"
      ]
     },
     "execution_count": 18,
     "metadata": {},
     "output_type": "execute_result"
    }
   ],
   "source": [
    "s = \"Let's take LeetCode contest\"\n",
    "\n",
    "# Solution\n",
    "def solution(s):\n",
    "    result = []\n",
    "    for i in s.split(' '):\n",
    "        s_str = ''\n",
    "        for j in range(0,len(i)):\n",
    "            s_str += i[len(i)-j-1]\n",
    "        result.append(s_str)\n",
    "    return result\n",
    "\n",
    "solution(s)"
   ]
  },
  {
   "cell_type": "markdown",
   "id": "e5af333a",
   "metadata": {},
   "source": [
    "### __566. Reshape the Matrix__  \n",
    "In MATLAB, there is a handy function called reshape which can reshape an m x n matrix into a new one with a different size r x c keeping its original data.\n",
    "\n",
    "You are given an m x n matrix mat and two integers r and c representing the number of rows and the number of columns of the wanted reshaped matrix.\n",
    "\n",
    "The reshaped matrix should be filled with all the elements of the original matrix in the same row-traversing order as they were.\n",
    "\n",
    "If the reshape operation with given parameters is possible and legal, output the new reshaped matrix; Otherwise, output the original matrix."
   ]
  },
  {
   "cell_type": "code",
   "execution_count": 29,
   "id": "26014461",
   "metadata": {},
   "outputs": [
    {
     "data": {
      "text/plain": [
       "[[1, 2, 3, 4, 5, 6], [7, 8, 9, 9, 9, 9]]"
      ]
     },
     "execution_count": 29,
     "metadata": {},
     "output_type": "execute_result"
    }
   ],
   "source": [
    "mat = [[1,2],[3,4], [5,6], [7,8], [9,9], [9,9]]\n",
    "r = 2\n",
    "c = 6\n",
    "\n",
    "# Solution\n",
    "def solution(mat,r,c):\n",
    "    list_of_list = sum(mat,[])\n",
    "    if r*c != len(list_of_list): return mat\n",
    "    count = 0\n",
    "    result = []\n",
    "    for i in range(r):\n",
    "        raw_j = []\n",
    "        for j in range(c):\n",
    "            raw_j.append(list_of_list[count])\n",
    "            count += 1\n",
    "        result.append(raw_j)\n",
    "    return(result)\n",
    "\n",
    "solution(mat, r,c)\n"
   ]
  },
  {
   "cell_type": "markdown",
   "id": "d732ca8a",
   "metadata": {},
   "source": [
    "### __575. Distribute Candies__  \n",
    "Alice has n candies, where the ith candy is of type candyType[i]. Alice noticed that she started to gain weight, so she visited a doctor.\n",
    "\n",
    "The doctor advised Alice to only eat n / 2 of the candies she has (n is always even). Alice likes her candies very much, and she wants to eat the maximum number of different types of candies while still following the doctor's advice.\n",
    "\n",
    "Given the integer array candyType of length n, return the maximum number of different types of candies she can eat if she only eats n / 2 of them."
   ]
  },
  {
   "cell_type": "code",
   "execution_count": 6,
   "id": "9492f07f",
   "metadata": {},
   "outputs": [
    {
     "data": {
      "text/plain": [
       "1"
      ]
     },
     "execution_count": 6,
     "metadata": {},
     "output_type": "execute_result"
    }
   ],
   "source": [
    "candyType = [3,3,3,3,3,3,3,3]\n",
    "\n",
    "# Solution\n",
    "def solution(candyType):\n",
    "    ct = set(candyType)\n",
    "    max_c = len(candyType)/2\n",
    "    if max_c <= len(ct) : return max_c\n",
    "    return len(ct)\n",
    "\n",
    "solution(candyType)"
   ]
  },
  {
   "cell_type": "markdown",
   "id": "4b2b68ec",
   "metadata": {},
   "source": [
    "### __594. Longest Harmonious Subsequence__  \n",
    "We define a harmonious array as an array where the difference between its maximum value and its minimum value is exactly 1.\n",
    "\n",
    "Given an integer array nums, return the length of its longest harmonious subsequence among all its possible subsequences.\n",
    "\n",
    "A subsequence of array is a sequence that can be derived from the array by deleting some or no elements without changing the order of the remaining elements."
   ]
  },
  {
   "cell_type": "code",
   "execution_count": 18,
   "id": "28e0df10",
   "metadata": {},
   "outputs": [
    {
     "data": {
      "text/plain": [
       "5"
      ]
     },
     "execution_count": 18,
     "metadata": {},
     "output_type": "execute_result"
    }
   ],
   "source": [
    "nums = [1,3,2,2,5,2,3,7]\n",
    "\n",
    "# Solution\n",
    "def solution(nums):\n",
    "    nums_set = set(nums)\n",
    "    if len(nums_set) <=1: return 0\n",
    "    prev = min(nums)\n",
    "    max=0\n",
    "    for i in nums_set:\n",
    "        if prev - i == -1:\n",
    "            if len([j for j in nums if j in [prev, i]])>max : max=len([j for j in nums if j in [prev, i]])\n",
    "        prev = i\n",
    "    return(max)\n",
    "\n",
    "solution(nums)"
   ]
  },
  {
   "cell_type": "markdown",
   "id": "2a801c5a",
   "metadata": {},
   "source": [
    "### __599. Minimum Index Sum of Two Lists__  \n",
    "Given two arrays of strings list1 and list2, find the common strings with the least index sum.\n",
    "\n",
    "A common string is a string that appeared in both list1 and list2.\n",
    "\n",
    "A common string with the least index sum is a common string such that if it appeared at list1[i] and list2[j] then i + j should be the minimum value among all the other common strings.\n",
    "\n",
    "Return all the common strings with the least index sum. Return the answer in any order."
   ]
  },
  {
   "cell_type": "code",
   "execution_count": 1,
   "id": "d25ee433",
   "metadata": {},
   "outputs": [
    {
     "data": {
      "text/plain": [
       "'Shogun'"
      ]
     },
     "execution_count": 1,
     "metadata": {},
     "output_type": "execute_result"
    }
   ],
   "source": [
    "list1 = [\"Shogun\",\"Tapioca Express\",\"Burger King\",\"KFC\"]\n",
    "list2 = [\"Piatti\",\"The Grill at Torrey Pines\",\"Hungry Hunter Steakhouse\",\"Shogun\"]\n",
    "\n",
    "# Solution\n",
    "def solution(list1, list2):\n",
    "    len_l = len(list1)+len(list2)\n",
    "    for i in range(len(list1)):\n",
    "        if list1[i] in list2 : \n",
    "            if list1.index(list1[i]) + list2.index(list1[i])<len_l : \n",
    "                len_l = list1.index(list1[i]) + list2.index(list1[i])\n",
    "                result = list1[i]\n",
    "    return result\n",
    "\n",
    "solution(list1, list2)\n"
   ]
  },
  {
   "cell_type": "markdown",
   "id": "a2efa591",
   "metadata": {},
   "source": [
    "### __605. Can Place Flowers__  \n",
    "You have a long flowerbed in which some of the plots are planted, and some are not. However, flowers cannot be planted in adjacent plots.\n",
    "\n",
    "Given an integer array flowerbed containing 0's and 1's, where 0 means empty and 1 means not empty, and an integer n, return if n new flowers can be planted in the flowerbed without violating the no-adjacent-flowers rule."
   ]
  },
  {
   "cell_type": "code",
   "execution_count": 9,
   "id": "8918039c",
   "metadata": {},
   "outputs": [
    {
     "data": {
      "text/plain": [
       "True"
      ]
     },
     "execution_count": 9,
     "metadata": {},
     "output_type": "execute_result"
    }
   ],
   "source": [
    "flowerbed = [1,0,0,0,1]\n",
    "n = 1\n",
    "\n",
    "# Solution\n",
    "def solution(flowerbed, n):\n",
    "    prev = 0\n",
    "    counter = 0\n",
    "    flowerbed.append(0)\n",
    "    for i in range(0,len(flowerbed)-1):\n",
    "        if prev + flowerbed[i] + flowerbed[i+1] == 0 :\n",
    "            counter +=1\n",
    "            flowerbed[i] = 1\n",
    "        prev = flowerbed[i]\n",
    "    if n>counter: return False\n",
    "    return True\n",
    "\n",
    "solution(flowerbed, n)"
   ]
  },
  {
   "cell_type": "markdown",
   "id": "edc5b7f1",
   "metadata": {},
   "source": [
    "### __643. Maximum Average Subarray I__   \n",
    "You are given an integer array nums consisting of n elements, and an integer k.\n",
    "\n",
    "Find a contiguous subarray whose length is equal to k that has the maximum average value and return this value. Any answer with a calculation error less than 10-5 will be accepted."
   ]
  },
  {
   "cell_type": "code",
   "execution_count": 1,
   "id": "f5179c64",
   "metadata": {},
   "outputs": [
    {
     "data": {
      "text/plain": [
       "12.75"
      ]
     },
     "execution_count": 1,
     "metadata": {},
     "output_type": "execute_result"
    }
   ],
   "source": [
    "nums = [1,12,-5,-6,50,3]\n",
    "k = 4\n",
    "\n",
    "# Solution\n",
    "def solution(nums, k):\n",
    "    avg_nums = sum(nums[0:k])/k\n",
    "    for i in range(len(nums)):\n",
    "        if i+k>len(nums): break\n",
    "        if sum(nums[i:k+i])/k > avg_nums:\n",
    "            avg_nums = sum(nums[i:k+i])/k\n",
    "    return avg_nums\n",
    "\n",
    "solution(nums,k)\n"
   ]
  },
  {
   "cell_type": "markdown",
   "id": "ceff52fd",
   "metadata": {},
   "source": [
    "### __645. Set Mismatch__  \n",
    "You have a set of integers s, which originally contains all the numbers from 1 to n. Unfortunately, due to some error, one of the numbers in s got duplicated to another number in the set, which results in repetition of one number and loss of another number.\n",
    "\n",
    "You are given an integer array nums representing the data status of this set after the error.\n",
    "\n",
    "Find the number that occurs twice and the number that is missing and return them in the form of an array."
   ]
  },
  {
   "cell_type": "code",
   "execution_count": 15,
   "id": "c660abcb",
   "metadata": {},
   "outputs": [
    {
     "data": {
      "text/plain": [
       "[2, 3]"
      ]
     },
     "execution_count": 15,
     "metadata": {},
     "output_type": "execute_result"
    }
   ],
   "source": [
    "nums = [1,2,2,4]\n",
    "\n",
    "\n",
    "# Solution\n",
    "def solution(nums):\n",
    "    for i in range(0,len(nums)):\n",
    "        if nums[i] != i+1 : return [i,i+1]\n",
    "\n",
    "solution(nums)"
   ]
  },
  {
   "cell_type": "markdown",
   "id": "12925cee",
   "metadata": {},
   "source": [
    "### __657. Robot Return to Origin__  \n",
    "There is a robot starting at the position (0, 0), the origin, on a 2D plane. Given a sequence of its moves, judge if this robot ends up at (0, 0) after it completes its moves.\n",
    "\n",
    "You are given a string moves that represents the move sequence of the robot where moves[i] represents its ith move. Valid moves are 'R' (right), 'L' (left), 'U' (up), and 'D' (down).\n",
    "\n",
    "Return true if the robot returns to the origin after it finishes all of its moves, or false otherwise.\n",
    "\n",
    "Note: The way that the robot is \"facing\" is irrelevant. 'R' will always make the robot move to the right once, 'L' will always make it move left, etc. Also, assume that the magnitude of the robot's movement is the same for each move."
   ]
  },
  {
   "cell_type": "code",
   "execution_count": 2,
   "id": "06593009",
   "metadata": {},
   "outputs": [
    {
     "data": {
      "text/plain": [
       "True"
      ]
     },
     "execution_count": 2,
     "metadata": {},
     "output_type": "execute_result"
    }
   ],
   "source": [
    "moves = \"UD\"\n",
    "\n",
    "# Solution\n",
    "def solution(moves):\n",
    "    x = 0\n",
    "    y = 0\n",
    "    for i in moves:\n",
    "        if i == 'L' : x += 1\n",
    "        if i == \"R\" : x += -1\n",
    "        if i == 'U' : y += 1\n",
    "        if i == 'D' : y += -1\n",
    "    if x != 0 : return False\n",
    "    return True\n",
    "\n",
    "solution(moves)"
   ]
  },
  {
   "cell_type": "markdown",
   "id": "828d69ce",
   "metadata": {},
   "source": [
    "### __674. Longest Continuous Increasing Subsequence__  \n",
    "Given an unsorted array of integers nums, return the length of the longest continuous increasing subsequence (i.e. subarray). The subsequence must be strictly increasing.\n",
    "\n",
    "A continuous increasing subsequence is defined by two indices l and r (l < r) such that it is [nums[l], nums[l + 1], ..., nums[r - 1], nums[r]] and for each l <= i < r, nums[i] < nums[i + 1]."
   ]
  },
  {
   "cell_type": "code",
   "execution_count": 8,
   "id": "db037e83",
   "metadata": {},
   "outputs": [
    {
     "data": {
      "text/plain": [
       "3"
      ]
     },
     "execution_count": 8,
     "metadata": {},
     "output_type": "execute_result"
    }
   ],
   "source": [
    "nums = [8,1,2,5,4,7]\n",
    "\n",
    "# Solution\n",
    "def solution(nums):\n",
    "    prev = nums[0]\n",
    "    counter = 1\n",
    "    result = 0\n",
    "    for i in nums:\n",
    "        if i > prev: counter +=1\n",
    "        else: counter = 1\n",
    "        prev = i\n",
    "        if counter > result : result = counter\n",
    "    return result\n",
    "\n",
    "solution(nums)\n"
   ]
  },
  {
   "cell_type": "markdown",
   "id": "5340e853",
   "metadata": {},
   "source": [
    "### __680. Valid Palindrome II__  \n",
    "Given a string s, return true if the s can be palindrome after deleting at most one character from it."
   ]
  },
  {
   "cell_type": "code",
   "execution_count": 20,
   "id": "95e10dd6",
   "metadata": {},
   "outputs": [
    {
     "data": {
      "text/plain": [
       "False"
      ]
     },
     "execution_count": 20,
     "metadata": {},
     "output_type": "execute_result"
    }
   ],
   "source": [
    "\n",
    "s = \"abasdga\"\n",
    "\n",
    "# Solution\n",
    "def solution(s):\n",
    "    def poli_test(s):\n",
    "        result = ''\n",
    "        for i in range(len(s)):\n",
    "            result += s[-i-1]\n",
    "        if result == s : return True\n",
    "        return False\n",
    "    for i in range(len(s)):\n",
    "        if poli_test(s[0:i]+s[i+1:]): return True\n",
    "    return False\n",
    "\n",
    "solution(s)"
   ]
  },
  {
   "cell_type": "markdown",
   "id": "18c76cd8",
   "metadata": {},
   "source": [
    "### __682. Baseball Game__  \n",
    "You are keeping the scores for a baseball game with strange rules. At the beginning of the game, you start with an empty record.\n",
    "\n",
    "You are given a list of strings operations, where operations[i] is the ith operation you must apply to the record and is one of the following:\n",
    "\n",
    "An integer x.\n",
    "Record a new score of x.\n",
    "'+'.\n",
    "Record a new score that is the sum of the previous two scores.\n",
    "'D'.\n",
    "Record a new score that is the double of the previous score.\n",
    "'C'.\n",
    "Invalidate the previous score, removing it from the record.\n",
    "Return the sum of all the scores on the record after applying all the operations.\n",
    "\n",
    "The test cases are generated such that the answer and all intermediate calculations fit in a 32-bit integer and that all operations are valid."
   ]
  },
  {
   "cell_type": "code",
   "execution_count": 37,
   "id": "d37cb788",
   "metadata": {},
   "outputs": [
    {
     "data": {
      "text/plain": [
       "30"
      ]
     },
     "execution_count": 37,
     "metadata": {},
     "output_type": "execute_result"
    }
   ],
   "source": [
    "ops = [\"5\",\"2\",\"C\",\"D\",\"+\"]\n",
    "\n",
    "# Solution\n",
    "def solution(ops):\n",
    "    result = []\n",
    "    count = -1\n",
    "    prev = 0\n",
    "    for i in range(len(ops)):\n",
    "        if ops[i].isnumeric() :\n",
    "            result.append(int(ops[i]))\n",
    "            prev = int(ops[i])\n",
    "            count += 1 \n",
    "            continue\n",
    "        if ops[i] == '+':\n",
    "            result.append(result[count-1]+result[count])\n",
    "            prev = result[count]\n",
    "            count += 1 \n",
    "            continue\n",
    "        if ops[i] == 'C' :\n",
    "            prev = result[count]\n",
    "            del result[count]\n",
    "            count += -1\n",
    "            continue\n",
    "        if ops[i] == 'D':\n",
    "            result.append(prev*result[count])\n",
    "            count += 1 \n",
    "            continue\n",
    "    return sum(result)\n",
    "\n",
    "solution(ops)\n"
   ]
  },
  {
   "cell_type": "markdown",
   "id": "ea28503e",
   "metadata": {},
   "source": [
    "### __693. Binary Number with Alternating Bits__  \n",
    "Given a positive integer, check whether it has alternating bits: namely, if two adjacent bits will always have different values."
   ]
  },
  {
   "cell_type": "code",
   "execution_count": 4,
   "id": "08b4eaec",
   "metadata": {},
   "outputs": [
    {
     "data": {
      "text/plain": [
       "False"
      ]
     },
     "execution_count": 4,
     "metadata": {},
     "output_type": "execute_result"
    }
   ],
   "source": [
    "n = 5\n",
    "\n",
    "# Solution\n",
    "def solution(n):\n",
    "    prev = n%2-1\n",
    "    while n>1:\n",
    "        if n%2 == prev: return False\n",
    "        prev = n%2\n",
    "        n= n//2 \n",
    "    return True\n",
    "\n",
    "solution(11)\n"
   ]
  },
  {
   "cell_type": "markdown",
   "id": "c9ab37de",
   "metadata": {},
   "source": [
    "### __696. Count Binary Substrings__  \n",
    "Given a binary string s, return the number of non-empty substrings that have the same number of 0's and 1's, and all the 0's and all the 1's in these substrings are grouped consecutively.\n",
    "\n",
    "Substrings that occur multiple times are counted the number of times they occur."
   ]
  },
  {
   "cell_type": "code",
   "execution_count": 11,
   "id": "3f519d5f",
   "metadata": {},
   "outputs": [
    {
     "data": {
      "text/plain": [
       "6"
      ]
     },
     "execution_count": 11,
     "metadata": {},
     "output_type": "execute_result"
    }
   ],
   "source": [
    "\n",
    "def solution(s):\n",
    "    curr, prev, ans = 1, 0, 0\n",
    "    for i in range(1, len(s)):\n",
    "        if s[i] == s[i-1]: curr += 1\n",
    "        else:\n",
    "            ans += min(curr, prev)\n",
    "            prev, curr = curr, 1\n",
    "    return ans + min(curr, prev)\n",
    "\n",
    "solution(\"1010101\")\n"
   ]
  },
  {
   "cell_type": "markdown",
   "id": "becf997a",
   "metadata": {},
   "source": [
    "### __704. Binary Search__  \n",
    "Given an array of integers nums which is sorted in ascending order, and an integer target, write a function to search target in nums. If target exists, then return its index. Otherwise, return -1.\n",
    "\n",
    "You must write an algorithm with O(log n) runtime complexity."
   ]
  },
  {
   "cell_type": "code",
   "execution_count": 13,
   "id": "2f42c285",
   "metadata": {},
   "outputs": [
    {
     "data": {
      "text/plain": [
       "-1"
      ]
     },
     "execution_count": 13,
     "metadata": {},
     "output_type": "execute_result"
    }
   ],
   "source": [
    "nums = [-1,0,3,5,9,12]\n",
    "target = 2\n",
    "\n",
    "# Solution\n",
    "def solution(nums, target):\n",
    "    high = len(nums)-1\n",
    "    low = 0\n",
    "    middle = nums[(high-low)//2]\n",
    "    while True:\n",
    "        if nums[middle] == target: return middle\n",
    "        if target > nums[middle] : low = middle\n",
    "        if target < nums[middle] : high = middle\n",
    "        middle = (high+low)//2\n",
    "        if high-low <=1: return -1\n",
    "\n",
    "solution(nums, target)"
   ]
  },
  {
   "cell_type": "markdown",
   "id": "1d6d2b90",
   "metadata": {},
   "source": [
    "### __709. To Lower Case__  \n",
    "Given a string s, return the string after replacing every uppercase letter with the same lowercase letter."
   ]
  },
  {
   "cell_type": "code",
   "execution_count": 19,
   "id": "c74b4104",
   "metadata": {},
   "outputs": [
    {
     "data": {
      "text/plain": [
       "'hello'"
      ]
     },
     "execution_count": 19,
     "metadata": {},
     "output_type": "execute_result"
    }
   ],
   "source": [
    "from unittest import result\n",
    "\n",
    "\n",
    "s = \"Hello\"\n",
    "\n",
    "# Solution\n",
    "def solution(s):\n",
    "    result = ''\n",
    "    for i in range(len(s)):\n",
    "        if s[i].isupper() : \n",
    "            result += s[i].lower()\n",
    "            continue\n",
    "        result += s[i]\n",
    "    return(result)\n",
    "\n",
    "solution(s)"
   ]
  },
  {
   "cell_type": "markdown",
   "id": "227ed3ee",
   "metadata": {},
   "source": [
    "### __724. Find Pivot Index__  \n",
    "Given an array of integers nums, calculate the pivot index of this array.\n",
    "\n",
    "The pivot index is the index where the sum of all the numbers strictly to the left of the index is equal to the sum of all the numbers strictly to the index's right.\n",
    "\n",
    "If the index is on the left edge of the array, then the left sum is 0 because there are no elements to the left. This also applies to the right edge of the array.\n",
    "\n",
    "Return the leftmost pivot index. If no such index exists, return -1."
   ]
  },
  {
   "cell_type": "code",
   "execution_count": 4,
   "id": "47ca3035",
   "metadata": {},
   "outputs": [
    {
     "data": {
      "text/plain": [
       "-1"
      ]
     },
     "execution_count": 4,
     "metadata": {},
     "output_type": "execute_result"
    }
   ],
   "source": [
    "nums = [1,7,3,6,5,6]\n",
    "\n",
    "# Solutiob\n",
    "def solution(nums):\n",
    "    for i in range(len(nums)):\n",
    "        if sum(nums[:i]) == sum(nums[i+1:]): return i\n",
    "    return -1\n",
    "\n",
    "solution(nums)"
   ]
  },
  {
   "cell_type": "markdown",
   "id": "6c2a5a50",
   "metadata": {},
   "source": [
    "### __728. Self Dividing Numbers__  \n",
    "A self-dividing number is a number that is divisible by every digit it contains.\n",
    "\n",
    "For example, 128 is a self-dividing number because 128 % 1 == 0, 128 % 2 == 0, and 128 % 8 == 0.\n",
    "A self-dividing number is not allowed to contain the digit zero.\n",
    "\n",
    "Given two integers left and right, return a list of all the self-dividing numbers in the range [left, right]."
   ]
  },
  {
   "cell_type": "code",
   "execution_count": 25,
   "id": "12738df4",
   "metadata": {},
   "outputs": [
    {
     "data": {
      "text/plain": [
       "[1, 2, 3, 4, 5, 6, 7, 8, 9, 10, 11, 12, 15, 20, 22]"
      ]
     },
     "execution_count": 25,
     "metadata": {},
     "output_type": "execute_result"
    }
   ],
   "source": [
    "left = 1\n",
    "right = 22\n",
    "\n",
    "# Solution\n",
    "def solution(left, right):\n",
    "    def self_division(n):\n",
    "        n_d = [int(x) for x in list(str(n))]\n",
    "        for j in (n_d):\n",
    "            if j !=0 and n%j != 0: return False\n",
    "        return True\n",
    "    result = []\n",
    "    for i in range(left, right+1): \n",
    "        if self_division(i) : result.append(i)\n",
    "    return result\n",
    "\n",
    "solution(left, right)\n"
   ]
  },
  {
   "cell_type": "markdown",
   "id": "d98bfb8e",
   "metadata": {},
   "source": [
    "### __744. Find Smallest Letter Greater Than Target__  \n",
    "Given a characters array letters that is sorted in non-decreasing order and a character target, return the smallest character in the array that is larger than target.\n",
    "\n",
    "Note that the letters wrap around.\n",
    "\n",
    "For example, if target == 'z' and letters == ['a', 'b'], the answer is 'a'.\n",
    " "
   ]
  },
  {
   "cell_type": "code",
   "execution_count": 7,
   "id": "41cabf01",
   "metadata": {},
   "outputs": [
    {
     "data": {
      "text/plain": [
       "'c'"
      ]
     },
     "execution_count": 7,
     "metadata": {},
     "output_type": "execute_result"
    }
   ],
   "source": [
    "letters = [\"c\",\"f\",\"j\"]\n",
    "target = \"a\"\n",
    "\n",
    "# Solution\n",
    "def solution(letters, target):\n",
    "    temp = [x for x in letters if x>target]\n",
    "    return temp[0]\n",
    "\n",
    "solution(letters, target)"
   ]
  },
  {
   "cell_type": "markdown",
   "id": "371a9a6f",
   "metadata": {},
   "source": [
    "### __746. Min Cost Climbing Stairs__  \n",
    "You are given an integer array cost where cost[i] is the cost of ith step on a staircase. Once you pay the cost, you can either climb one or two steps.\n",
    "\n",
    "You can either start from the step with index 0, or the step with index 1.\n",
    "\n",
    "Return the minimum cost to reach the top of the floor."
   ]
  },
  {
   "cell_type": "code",
   "execution_count": 1,
   "id": "44096f33",
   "metadata": {},
   "outputs": [
    {
     "data": {
      "text/plain": [
       "6"
      ]
     },
     "execution_count": 1,
     "metadata": {},
     "output_type": "execute_result"
    }
   ],
   "source": [
    "cost = [1,100,1,1,1,100,1,1,100,1]\n",
    "\n",
    "# Solution\n",
    "def solution(cost):\n",
    "    if len(cost) == 1:\n",
    "        # Skip the first element\n",
    "        return 0\n",
    "    elif len(cost) == 2:\n",
    "        return min(cost[0], cost[1])\n",
    "    else:\n",
    "        cost_1 = cost[-1] + solution(cost[:-1])\n",
    "        cost_2 = cost[-2] + solution(cost[:-2])\n",
    "        return min(cost_1, cost_2 )\n",
    "    \n",
    "solution(cost)"
   ]
  },
  {
   "cell_type": "markdown",
   "id": "002153b3",
   "metadata": {},
   "source": [
    "### __747. Largest Number At Least Twice of Others__   \n",
    "You are given an integer array nums where the largest integer is unique.\n",
    "\n",
    "Determine whether the largest element in the array is at least twice as much as every other number in the array. If it is, return the index of the largest element, or return -1 otherwise."
   ]
  },
  {
   "cell_type": "code",
   "execution_count": 3,
   "id": "5e7be87c",
   "metadata": {},
   "outputs": [
    {
     "data": {
      "text/plain": [
       "1"
      ]
     },
     "execution_count": 3,
     "metadata": {},
     "output_type": "execute_result"
    }
   ],
   "source": [
    "nums = [3,6,1,0]\n",
    "\n",
    "# Solution\n",
    "def solution(nums):\n",
    "    mxn = max(nums)\n",
    "    for i in nums:\n",
    "        if mxn > i*2: return nums.index(mxn)\n",
    "    return -1\n",
    "\n",
    "solution(nums)"
   ]
  },
  {
   "cell_type": "markdown",
   "id": "3f109006",
   "metadata": {},
   "source": [
    "### __762. Prime Number of Set Bits in Binary Representation__  \n",
    "Given two integers left and right, return the count of numbers in the inclusive range [left, right] having a prime number of set bits in their binary representation.\n",
    "\n",
    "Recall that the number of set bits an integer has is the number of 1's present when written in binary.\n",
    "\n",
    "For example, 21 written in binary is 10101, which has 3 set bits."
   ]
  },
  {
   "cell_type": "code",
   "execution_count": 13,
   "id": "2fa82dd6",
   "metadata": {},
   "outputs": [
    {
     "data": {
      "text/plain": [
       "5"
      ]
     },
     "execution_count": 13,
     "metadata": {},
     "output_type": "execute_result"
    }
   ],
   "source": [
    "left = 10\n",
    "right = 15\n",
    "\n",
    "# Solution\n",
    "def solution(left, right):\n",
    "    # бинаризация числа в обратном опрядке(в этой задаче порядок не имеет значения)\n",
    "    def binarization_reverse(num):\n",
    "        result = []\n",
    "        while num>0:\n",
    "            result.append(num%2)\n",
    "            num = num//2\n",
    "        return result\n",
    "    # является ли число простым\n",
    "    def prime_num(num):\n",
    "        if num <=1: return False\n",
    "        for i in range(2,num):\n",
    "            if num%i == 0: return False\n",
    "        return True\n",
    "    result = 0\n",
    "    for i in range(left, right+1):\n",
    "        if prime_num(binarization_reverse(i).count(1)): result +=1\n",
    "    return result\n",
    "\n",
    "solution(left, right)"
   ]
  },
  {
   "cell_type": "markdown",
   "id": "c0fedbc3",
   "metadata": {},
   "source": [
    "### __771. Jewels and Stones__  \n",
    "You're given strings jewels representing the types of stones that are jewels, and stones representing the stones you have. Each character in stones is a type of stone you have. You want to know how many of the stones you have are also jewels.\n",
    "\n",
    "Letters are case sensitive, so \"a\" is considered a different type of stone from \"A\".\n",
    "\n",
    " "
   ]
  },
  {
   "cell_type": "code",
   "execution_count": 3,
   "id": "3f74300e",
   "metadata": {},
   "outputs": [
    {
     "name": "stdout",
     "output_type": "stream",
     "text": [
      "function <function solution at 0x0000015F98845A60> is started\n",
      "function <function solution at 0x0000015F98845A60> is ended\n"
     ]
    },
    {
     "data": {
      "text/plain": [
       "3"
      ]
     },
     "execution_count": 3,
     "metadata": {},
     "output_type": "execute_result"
    }
   ],
   "source": [
    "from functools import wraps\n",
    "\n",
    "jewels = \"aA\"\n",
    "stones = \"aAAbbbb\"\n",
    "\n",
    "# Solution\n",
    "\n",
    "def decor(func):\n",
    "    @wraps(func)\n",
    "    def wrap(*args, **kwargs):\n",
    "        print('function {} is started'.format(func))\n",
    "        res = func(*args, **kwargs)\n",
    "        print('function {} is ended'.format(func))\n",
    "        return res\n",
    "    return wrap\n",
    "    \n",
    "@decor\n",
    "def solution(jew, st):\n",
    "    count = 0\n",
    "    jew_set = set(jew)\n",
    "    for i in st:\n",
    "        if i in jew_set: count += 1\n",
    "    return count\n",
    "\n",
    "solution(jewels, stones)\n"
   ]
  },
  {
   "cell_type": "markdown",
   "id": "e8370268",
   "metadata": {},
   "source": [
    "### __796. Rotate String__  \n",
    "Given two strings s and goal, return true if and only if s can become goal after some number of shifts on s.\n",
    "\n",
    "A shift on s consists of moving the leftmost character of s to the rightmost position.\n",
    "\n",
    "For example, if s = \"abcde\", then it will be \"bcdea\" after one shift."
   ]
  },
  {
   "cell_type": "code",
   "execution_count": 1,
   "id": "6ae983e2",
   "metadata": {},
   "outputs": [
    {
     "data": {
      "text/plain": [
       "True"
      ]
     },
     "execution_count": 1,
     "metadata": {},
     "output_type": "execute_result"
    }
   ],
   "source": [
    "s = \"abcde\"\n",
    "goal = \"cdeab\"\n",
    "\n",
    "# Solution\n",
    "def solution(s, goal):\n",
    "    for i in range(len(s)):\n",
    "        if s[i:]+s[0:i] == goal: return True\n",
    "    return False\n",
    "\n",
    "solution(s, goal)"
   ]
  },
  {
   "cell_type": "markdown",
   "id": "c8c702ce",
   "metadata": {},
   "source": [
    "### __812. Largest Triangle Area__  \n",
    "Given an array of points on the X-Y plane points where points[i] = [xi, yi], return the area of the largest triangle that can be formed by any three different points. Answers within 10-5 of the actual answer will be accepted."
   ]
  },
  {
   "cell_type": "code",
   "execution_count": 3,
   "id": "f5e6e793",
   "metadata": {},
   "outputs": [
    {
     "data": {
      "text/plain": [
       "2.0"
      ]
     },
     "execution_count": 3,
     "metadata": {},
     "output_type": "execute_result"
    }
   ],
   "source": [
    "import itertools\n",
    "points = [[0,0],[0,1],[1,0],[0,2],[2,0]]\n",
    "\n",
    "# Solution\n",
    "def solution(points):\n",
    "    # S=(1/2)*(x1y2+x2y3+x3y1-x1y3-x2y1-x3y2)\n",
    "    def f(p1, p2, p3):\n",
    "        (x1, y1), (x2, y2), (x3, y3) = p1, p2, p3\n",
    "        return 0.5 * abs(x1 * (y2 - y3) + x2 * (y3 - y1) + x3 * (y1 - y2))\n",
    "    return max(f(a, b, c) for a, b, c in itertools.combinations(points, 3))\n",
    "\n",
    "solution(points)\n"
   ]
  },
  {
   "cell_type": "markdown",
   "id": "56f4a187",
   "metadata": {},
   "source": [
    "### __819. Most Common Word__  \n",
    "Given a string paragraph and a string array of the banned words banned, return the most frequent word that is not banned. It is guaranteed there is at least one word that is not banned, and that the answer is unique.\n",
    "\n",
    "The words in paragraph are case-insensitive and the answer should be returned in lowercase.\n",
    "\n",
    " "
   ]
  },
  {
   "cell_type": "code",
   "execution_count": 49,
   "id": "3b13f5bf",
   "metadata": {},
   "outputs": [
    {
     "data": {
      "text/plain": [
       "'ball'"
      ]
     },
     "execution_count": 49,
     "metadata": {},
     "output_type": "execute_result"
    }
   ],
   "source": [
    "import string\n",
    "paragraph = \"Bob hit a ball, the hit BALL flew far after it was hit.\"\n",
    "banned = [\"hit\"]\n",
    "\n",
    "# Solution\n",
    "def solution(par, ban):\n",
    "    par = par.replace(r',','').lower()\n",
    "    par = par.rstrip(string.punctuation).lower().split(' ')\n",
    "    set_s = set(par)\n",
    "    res = ''\n",
    "    count = 0\n",
    "    for i in  set_s:\n",
    "        if par.count(i)>count and i not in ban:\n",
    "            count = par.count(i)\n",
    "            res = i\n",
    "    return(res)\n",
    "\n",
    "solution(paragraph, banned)\n"
   ]
  }
 ],
 "metadata": {
  "interpreter": {
   "hash": "c0fbb0ce8cdd535267a1474e8612decf41d6983b57d829546a25a2ccc69369e3"
  },
  "kernelspec": {
   "display_name": "Python 3.9.7 ('base')",
   "language": "python",
   "name": "python3"
  },
  "language_info": {
   "codemirror_mode": {
    "name": "ipython",
    "version": 3
   },
   "file_extension": ".py",
   "mimetype": "text/x-python",
   "name": "python",
   "nbconvert_exporter": "python",
   "pygments_lexer": "ipython3",
   "version": "3.9.7"
  }
 },
 "nbformat": 4,
 "nbformat_minor": 5
}
